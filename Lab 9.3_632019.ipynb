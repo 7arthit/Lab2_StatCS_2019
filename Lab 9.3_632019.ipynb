{
 "cells": [
  {
   "cell_type": "code",
   "execution_count": 8,
   "id": "44b11392",
   "metadata": {},
   "outputs": [
    {
     "name": "stdout",
     "output_type": "stream",
     "text": [
      "P(X=2)=0.0243\n"
     ]
    }
   ],
   "source": [
    "# 9.3 การแจกแจงปัวส์ซอง (Poisson distribution)\n",
    "# Ex 9-3\n",
    "import scipy.stats as st\n",
    "import numpy as np\n",
    "lamda = 0.25\n",
    "x = 2\n",
    "prob = st.poisson.pmf(x,lamda)\n",
    "print('P(X=%d)=%.4f'%(x,prob))"
   ]
  },
  {
   "cell_type": "code",
   "execution_count": 9,
   "id": "1ffc66f6",
   "metadata": {},
   "outputs": [
    {
     "name": "stdout",
     "output_type": "stream",
     "text": [
      "P(X>=2)=0.0265\n"
     ]
    }
   ],
   "source": [
    "prob = 1-st.poisson.cdf(x-1,lamda)\n",
    "print('P(X>=%d)=%.4f'%(x,prob))"
   ]
  },
  {
   "cell_type": "code",
   "execution_count": 10,
   "id": "eb98e0fe",
   "metadata": {},
   "outputs": [
    {
     "name": "stdout",
     "output_type": "stream",
     "text": [
      "mean=0.2500 and variance=0.2500\n"
     ]
    }
   ],
   "source": [
    "mean,var = st.poisson.stats(lamda)\n",
    "print('mean=%.4f and variance=%.4f'%(mean,var))"
   ]
  },
  {
   "cell_type": "code",
   "execution_count": null,
   "id": "2fb748ca",
   "metadata": {},
   "outputs": [],
   "source": []
  }
 ],
 "metadata": {
  "kernelspec": {
   "display_name": "Python 3 (ipykernel)",
   "language": "python",
   "name": "python3"
  },
  "language_info": {
   "codemirror_mode": {
    "name": "ipython",
    "version": 3
   },
   "file_extension": ".py",
   "mimetype": "text/x-python",
   "name": "python",
   "nbconvert_exporter": "python",
   "pygments_lexer": "ipython3",
   "version": "3.8.10"
  }
 },
 "nbformat": 4,
 "nbformat_minor": 5
}
