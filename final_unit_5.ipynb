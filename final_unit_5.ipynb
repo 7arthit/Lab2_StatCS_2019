{
 "cells": [
  {
   "cell_type": "code",
   "execution_count": 52,
   "id": "c7c7a4fb",
   "metadata": {},
   "outputs": [],
   "source": [
    "# บทที่  5 การแจกแจงความน่าจะเป็น"
   ]
  },
  {
   "cell_type": "code",
   "execution_count": null,
   "id": "2b9e131a",
   "metadata": {},
   "outputs": [],
   "source": [
    "# 5.1 การแจกแจงความน่าจะเป็นของตัวแปรสุ่มไม่ต่อเนื่อง"
   ]
  },
  {
   "cell_type": "code",
   "execution_count": null,
   "id": "e5d52f2a",
   "metadata": {},
   "outputs": [],
   "source": [
    "# 5.1.1 Bernoulli การแจกแจง บอร์นูลลี"
   ]
  },
  {
   "cell_type": "code",
   "execution_count": 3,
   "id": "cebc7e99",
   "metadata": {},
   "outputs": [
    {
     "name": "stdout",
     "output_type": "stream",
     "text": [
      "P(X=1)=0.0195\n",
      "P(X=0)=0.9805\n",
      "E(X)=0.0195, var=0.0192, std=0.1384\n"
     ]
    }
   ],
   "source": [
    "import scipy.stats as st\n",
    "import math\n",
    "\n",
    "#Ex 5.1 ในการทดลองโยนเหรียญปกติ จำนวน 3 เหรียญ จงหาความน่าจะเป็นที่จะได้\n",
    "# เหรียญออกหัวเพียง 2 เหรียญ หาค่าคาดหวังและความแปรปรวนของตัวแปรสุ่ม X\n",
    "\n",
    "#จากการวิเคราะห์ = 2 กำลัง 3 วิธี ได้ 8 วิธี\n",
    "#ความน่าจะเป็น คือ 3 / 8 = 0.3750\n",
    "#ค่าคาดหวังและความแปรปรวนของตัวแปรสุ่ม คือ 3 / 8 * 5 / 8 = 15 / 64 = 0.2344 \"\" 5 / 8 คือ 8 / 8 - 3 / 8 = 5 / 8\n",
    "\n",
    "x = 1 # ตัวแปรสุ่มไม่ต่อเนื่อง\n",
    "p = 3/8 #n(A) / n(S)\n",
    "\n",
    "prob = st.bernoulli.pmf(x,p)#การแจกแจง บอร์นูลลี\n",
    "print('P(X=%d)=%.4f'%(x,prob)) #ความน่าจะเป็นโยนเหรียญ 3 ครั้ง ออกหัว 2 ครั้ง f(1)\n",
    "print('P(X=%d)=%.4f'%(0,1-prob)) #ความน่าจะเป็น จะไม่ได้เหรียญออกหัว f(0)\n",
    "\n",
    "mean, var = st.bernoulli.stats(p)\n",
    "print('E(X)=%.4f, var=%.4f, std=%.4f'%(mean,var, math.sqrt(var)))#ค่าคาดหวังและความแปรปรวนของตัวแปรสุ่ม"
   ]
  },
  {
   "cell_type": "code",
   "execution_count": 5,
   "id": "4dd711fb",
   "metadata": {},
   "outputs": [
    {
     "name": "stdout",
     "output_type": "stream",
     "text": [
      "P(X=1)=0.1667\n",
      "P(X=0)=0.8333\n",
      "E(X)=0.1667, var=0.1389, std=0.3727\n"
     ]
    }
   ],
   "source": [
    "#Ex 5.2 ทอดลูก เต๋า 1 ลูก 1 ครั้ง จงหาความน่าจะเป็นที่ลูกเต๋าขึ้นแต้ม 3 ค่าคาดหวัง\n",
    "#และความแปรปรวนของตัวแปรสุ่ม X\n",
    "\n",
    "#จากการวิเคราะห์ = ลูกเต๋า 1 ลูก มี 6 หน้า ดังนั้น ความน่าเป็นเป็นที่จะได้ 3 แต้ม ก็คือ 1 หน้า ใน 6 หน้า\n",
    "#ความน่าจะเป็น คือ 1 / 6 = 0.1667 \n",
    "#ค่าคาดหวังและความแปรปรวนของตัวแปรสุ่ม คือ 1 / 6 * 5 / 6 = 0.1389 \"\" 5 / 6 คือ 6 / 6 - 1 / 6 = 5 / 6\n",
    "\n",
    "x = 1 # ตัวแปรสุ่มไม่ต่อเนื่อง\n",
    "p = 1/6 #n(A) / n(S)\n",
    "\n",
    "prob = st.bernoulli.pmf(x,p)#การแจกแจง บอร์นูลลี\n",
    "print('P(X=%d)=%.4f'%(x,prob)) #ความน่าจะเป็นจากการทอดลูกเต๋า 1 ลูก 1 ครั้งได้เป็น 3 แต้ม f(1)\n",
    "print('P(X=%d)=%.4f'%(0,1-prob)) #ความน่าจะเป็น จะไม่ได้ 3 แต้ม f(0)\n",
    "\n",
    "mean, var = st.bernoulli.stats(p)\n",
    "print('E(X)=%.4f, var=%.4f, std=%.4f'%(mean,var, math.sqrt(var)))#ค่าคาดหวังและความแปรปรวนของตัวแปรสุ่ม"
   ]
  },
  {
   "cell_type": "code",
   "execution_count": null,
   "id": "76f11418",
   "metadata": {},
   "outputs": [],
   "source": [
    "# 5.1.2 Binomial การแจกแจง ทวินาม"
   ]
  },
  {
   "cell_type": "code",
   "execution_count": 6,
   "id": "ef9d7180",
   "metadata": {},
   "outputs": [
    {
     "name": "stdout",
     "output_type": "stream",
     "text": [
      "P(X=2)=0.3750\n",
      "E(X)=1.5000, var=0.7500, std=0.8660\n"
     ]
    }
   ],
   "source": [
    "#Ex5.3 จากตัวอย่าง 5.1  จงหา ความน่าจะเป็น ของการโยนเหรียญ 3 ครั้ง แล้วเกิด หัว 2 ครั้ง \n",
    "#หาค่าคาดหวังและความแปรปรวนของตัวแปรสุ่ม X\n",
    "\n",
    "#จากการวิเคราะห์ =  n คือการทำซ้ำ 3 ครั้ง  x คือ เกิดหัว 2 ครั้ง \n",
    "#โอกาส 3 ครั้ง เกิด หัว 2 ได้ 0.75  '''''' ส่วน  เกิดหัว 1 ครั้ง ได้ 0.25 เกิด หัว 2 ครั้งได้ 0.5\n",
    "#ดังนั้น p = 0.5\n",
    "\n",
    "x = 2 \n",
    "n = 6\n",
    "p = 0.6\n",
    "\n",
    "prob = st.binom.pmf(x,n,p)#จากสูตร pmf 3! / 2! 1! * 0.25 * 0.5 = 0.3750\n",
    "print('P(X=%d)=%.4f'%(x,prob))\n",
    "\n",
    "mean, var = st.binom.stats(n,p)\n",
    "print('E(X)=%.4f, var=%.4f, std=%.4f'%(mean,var, math.sqrt(var)))#ค่าคาดหวังและความแปรปรวนของตัวแปรสุ่ม"
   ]
  },
  {
   "cell_type": "code",
   "execution_count": 10,
   "id": "e84c3119",
   "metadata": {},
   "outputs": [
    {
     "name": "stdout",
     "output_type": "stream",
     "text": [
      "P(X>=2)=0.0052\n",
      "E(X)=0.1100,var=0.1089,std=0.3300\n"
     ]
    }
   ],
   "source": [
    "#Ex5.4 ตัวอย่าง 5.4 โรงงานผลิต CPU แห่งหนึ่งตรวจพบว่า CPU ที่ผลิตขึ้นในแต่ละ เดือนมี CPU ที่\n",
    "#ไม่ได้มาตรฐานอยู่ 1% ถ้าหากสุ่มตัวอย่าง CPU มาทดสอบจำนวน 11 ตัว จงหาความน่าจะป็นที่จะพบ \n",
    "#CPU ที่ไม่ได้มาตรฐานอย่างน้อย 2 ตัว ค่าคาดหวังและความแปรปรวนของตัวแปรสุ่ม X\n",
    "\n",
    "#จากการวิเคราะห์ = x คือ cpu , n คือ ทดสอบจำนวน 11 ครั้ง , p คือ 0.1 = 0.01\n",
    "\n",
    "x = 2\n",
    "n = 11\n",
    "p = 0.01\n",
    "\n",
    "prob=1-st.binom.cdf(x-1,n,p) #จากสูตร cdf ค่าโอกาสสะสม x - 1\n",
    "print('P(X>=%d)=%.4f'%(x,prob))\n",
    "\n",
    "mean, var = st.binom.stats(n,p)\n",
    "print('E(X)=%.4f,var=%.4f,std=%.4f'%(mean,var, math.sqrt(var)))#ค่าคาดหวังและความแปรปรวนของตัวแปรสุ่ม"
   ]
  },
  {
   "cell_type": "code",
   "execution_count": 4,
   "id": "3bbca0f9",
   "metadata": {},
   "outputs": [
    {
     "name": "stdout",
     "output_type": "stream",
     "text": [
      "ก) P(X<=9)=0.5109\n",
      "ข) P(X=5)=-0.4700\n",
      "ค) E(X)=9.4600,var=5.3922,std=2.3221\n"
     ]
    }
   ],
   "source": [
    "#Ex5.5 ตัวอย่าง 5.5 ในการทอดลูก ตำคู่หนึ่ง 14 ครั่ง ถ้าให้ความสำเร็จ เป็น เหตุการณ์ที่ผลบวก\n",
    "#ของแต้มลูก ต่ำทั้งคู่ ท่ากับ 5 หรือ 6 จงหา\n",
    "#ก) ความน่าจะเป็นที่จะได้ความสำเร็จอย่างมาก 4 ครั้ง\n",
    "#ข) ความน่าจะเป็นที่จะได้ความสำเร็จ 5 ครั้ง\n",
    "#ค) ค่าคาดหวังและความแปรปรวนของตัวแปรสุ่ม X\n",
    "\n",
    "n = 22\n",
    "p = 0.43\n",
    "\n",
    "x1 = 9 #ความน่าจะเป็นที่จะได้ความสำเร็จ อย่างมาก 4 ครั้ง แทน x1 = 4\n",
    "prob = st.binom.cdf(x1,n,p)\n",
    "print('ก) P(X<=%d)=%.4f'%(x1,prob))\n",
    "\n",
    "x2 = 5 #ความน่าจะเป็นที่จะได้ความสำเร็จ 5 ครั้ง แทน x2 = 5\n",
    "prob = st.binom.cdf(x2,n,p) - st.binom.cdf(x1,n,p)\n",
    "print('ข) P(X=%d)=%.4f'%(x2,prob))\n",
    "\n",
    "mean, var = st.binom.stats(n,p) #ค่าคาดหวังและความแปรปรวนของตัวแปรสุ่ม X\n",
    "print('ค) E(X)=%.4f,var=%.4f,std=%.4f'%(mean,var,math.sqrt(var)))"
   ]
  },
  {
   "cell_type": "code",
   "execution_count": 50,
   "id": "2ceed573",
   "metadata": {},
   "outputs": [
    {
     "name": "stdout",
     "output_type": "stream",
     "text": [
      "E(X)=200.0000,var=160.0000,std=12.6491\n"
     ]
    }
   ],
   "source": [
    "#Ex5.6 จากการสำรวจ พบว่าผู้มีสิทธิอก สียง ลือกตั้งในจังหวัดมหาสารคาม\n",
    "#จำนวน 20% ต้องการ ลือกนายอุดม ปีน สส. และจากแบบสอบถามความคิด ห็นของผู้มี\n",
    "#สิทธิออก สียง ลือกตั้งจำนวน 1000 คน ในจังหวัดมหาสารคามว่า ขา ลือก หรือไม่ ลือก\n",
    "#นายอุดม จงหาค่าคาดหวังและส่วน บียง บนมาตรฐานของตัวแปรสุ่ม X\n",
    "\n",
    "n = 1000\n",
    "p = 0.2\n",
    "\n",
    "mean, var = st.binom.stats(n,p)\n",
    "print('E(X)=%.4f,var=%.4f,std=%.4f'%(mean,var,math.sqrt(var)))#ค่าคาดหวังและส่วน บียง บนมาตรฐานของตัวแปรสุ่ม X"
   ]
  },
  {
   "cell_type": "code",
   "execution_count": null,
   "id": "27dabf8a",
   "metadata": {},
   "outputs": [],
   "source": [
    "#5.1.3 Poisson การแจกแจงปัวส์ซอง"
   ]
  },
  {
   "cell_type": "code",
   "execution_count": 36,
   "id": "9af4a3ad",
   "metadata": {},
   "outputs": [
    {
     "name": "stdout",
     "output_type": "stream",
     "text": [
      "P(X=6)=0.1042\n",
      "E(X)=4.0000,var=4.0000,std=2.0000\n"
     ]
    }
   ],
   "source": [
    "#Ex5.7 จากการสำรวจอุบัติ หตุที่ กิดบนถนนสายหนึ่ง พบว่า มีอุบัติ หตุ กิดขึ้นโดย\n",
    "#เฉลี่ย 4 ครั้งใน 1 สัปดาห์ จงหาความน่าจะ ปีนที่จะ กิดอุบัติ หตุบนถนนสายนี้ 6 ครั้งใน\n",
    "#หนึ่งสัปดาห์ วมทั้งค่าคาดหวังและความแปรปรวนของตัวแปรสุ่ม X\n",
    "\n",
    "x = 6 #เกิดขึ้น ณ ช่วงเวลาหนึ่ง ที่เกิดขึ้น\n",
    "lamda = 4 #ค่าเฉลี่ยจำนวนครั้ง\n",
    "\n",
    "prob = st.poisson.pmf(x,lamda)#ความน่าจะเป็นที่จะเกิดอุบัติเหตุบนถนนสายนี้ 6 ครั้งในหนึ่งสัปดาห์\n",
    "print('P(X=%d)=%.4f'%(x,prob))\n",
    "\n",
    "mean, var = st. poisson.stats(lamda)#ค่าคาดหวังและความแปรปรวนของตัวแปรสุ่ม X\n",
    "print('E(X)=%.4f,var=%.4f,std=%.4f'%(mean,var,math.sqrt(var)))"
   ]
  },
  {
   "cell_type": "code",
   "execution_count": 40,
   "id": "6478ea0a",
   "metadata": {},
   "outputs": [
    {
     "name": "stdout",
     "output_type": "stream",
     "text": [
      "P(X<=4)=0.8153\n",
      "E(X)=3.0000,var=3.0000,std=1.7321\n"
     ]
    }
   ],
   "source": [
    "#Ex5.8 บริษัทผลิต DVD หนังของบริษัทแห่งหนึ่ง พบว่าแผ่น DVD จะชำรุดโดย\n",
    "#เฉลี่ยวันหนึ่ง 3 แผ่น จงหาความน่าจะ ปีนที่มีแผ่น DVD ชำรุดอย่างมากสุด 4 แผ่น\n",
    "\n",
    "x = 4 #จำนวนแผ่นซีดี\n",
    "lamda = 3 #เฉลี่ยวันหนึ่ง 3 แผ่น\n",
    "\n",
    "prob = st.poisson.cdf(x,lamda)#หาความน่าจะ เป็นที่มีแผ่น DVD ชำรุดอย่างมากสุด 4 แผ่น\n",
    "print('P(X<=%d)=%.4f'%(x,prob))\n",
    "\n",
    "mean,var = st.poisson.stats(lamda)#ค่าคาดหวังและความแปรปรวนของตัวแปรสุ่ม X\n",
    "print('E(X)=%.4f,var=%.4f,std=%.4f'%(mean,var,math.sqrt(var)))"
   ]
  },
  {
   "cell_type": "code",
   "execution_count": 44,
   "id": "f0ac59d4",
   "metadata": {},
   "outputs": [
    {
     "name": "stdout",
     "output_type": "stream",
     "text": [
      "lamda= 6\n",
      "P(X=5)=0.1606\n",
      "E(X)=11.0000,var=11.0000,std=3.3166\n"
     ]
    }
   ],
   "source": [
    "#Ex 5.9 ในการขนส่งสินค้าแต่ละวันจะมีรถบรทุกส่งสินค้ามาถึงท่า รือด้วยอัตรา ฉลี่ย\n",
    "#3 คันต่อชั่วโมง จงหาความน่าจะ ปีนที่รถบรรทุก 5 คันจะมาถึงท่า รือใน 2 ชั่วโมง รวมทั้ง\n",
    "#ค่าคาดหวัง และความแปรปรวน\n",
    "\n",
    "x = 5 #รถบรรทุก 5 คันจะมาถึงท่า รือใน 2 ชั่วโมง\n",
    "l1 = 3  # ฉลี่ย 3 คันต่อชั่วโมง  \n",
    "\n",
    "#t = 2 ชั่วโมง\n",
    "lamda = l1*2 #L1*t \n",
    "print('lamda=',lamda)\n",
    "\n",
    "prob=st.poisson.pmf(x,lamda)#ความน่าจะ ปีนที่รถบรรทุก 5 คันจะมาถึงท่า รือใน 2 ชั่วโมง\n",
    "print('P(X=%d)=%.4f'%(x,prob))\n",
    "\n",
    "mean, var = st.poisson.stats(11)#ค่าคาดหวัง และความแปรปรวน\n",
    "print('E(X)=%.4f,var=%.4f,std=%.4f'%(mean,var,math.sqrt(var)))"
   ]
  },
  {
   "cell_type": "code",
   "execution_count": 48,
   "id": "940035ac",
   "metadata": {},
   "outputs": [
    {
     "name": "stdout",
     "output_type": "stream",
     "text": [
      "P(X=2)=0.1465\n",
      "E(X)=4.0000,var=4.0000,std=2.0000\n"
     ]
    }
   ],
   "source": [
    "#Ex5.10 ในประ ทศสหรัฐ พบว่า หตุการณ์คนตาย พราะถูกฟ้าผ่าโดย ฉลี่ย 4 คนต่อ\n",
    "#ปี จงหาความน่าจะ ป็นที่คน 2 คนจะถูกฟ้าผ่าในปีนี้\n",
    "\n",
    "x = 2 #คน 2 คนจะถูกฟ้าผ่าในปีนี้\n",
    "lamda = 4 #ถูกฟ้าผ่าโดย ฉลี่ย 4 คนต่อปี \n",
    "\n",
    "prob = st.poisson.pmf(x,lamda)#หาความน่าจะ ป็นที่คน 2 คนจะถูกฟ้าผ่าในปีนี้\n",
    "print('P(X=%d)=%.4f'%(x,prob))\n",
    "\n",
    "mean, var = st.poisson.stats(lamda)#ค่าคาดหวัง และความแปรปรวน\n",
    "print('E(X)=%.4f,var=%.4f,std=%.4f'%(mean,var,math.sqrt(var)))"
   ]
  },
  {
   "cell_type": "code",
   "execution_count": 49,
   "id": "eae211fc",
   "metadata": {},
   "outputs": [
    {
     "name": "stdout",
     "output_type": "stream",
     "text": [
      "P(X=5)=0.0602\n"
     ]
    }
   ],
   "source": [
    "#Ex5.11  ข้อความที่ถูกส่งมาถึงศูนย์กลาง switching อย่างสุ่ม ด้วยความ ร็ว ฉลี่ย\n",
    "#1.2 ข้อความต่อวินาที จงหาความน่าจะ ปีนที่ข้อความ 5 ข้อความมาถึงในช่วง วลา 2 วินาที\n",
    "\n",
    "x = 5 #ข้อความ 5 ข้อความมาถึงในช่วง วลา 2 วินาที\n",
    "v = 1.2 #ความ ร็ว ฉลี่ย 1.2 ข้อความต่อวินาที \n",
    "t = 2 #ช่วง วลา 2 วินาที\n",
    "lamda = v*t #u*t\n",
    "\n",
    "prob=st.poisson.pmf(x,lamda)#ความน่าจะ ปีนที่ข้อความ 5 ข้อความมาถึงในช่วง วลา 2 วินาที\n",
    "print('P(X=%d)=%.4f'%(x,prob))"
   ]
  },
  {
   "cell_type": "code",
   "execution_count": null,
   "id": "1fe65f36",
   "metadata": {},
   "outputs": [],
   "source": [
    "# 5.1.4 การประมาณค่าการแจกแจงทวินามด้วยการแจกแจงปัวซอง"
   ]
  },
  {
   "cell_type": "code",
   "execution_count": 53,
   "id": "775a3115",
   "metadata": {},
   "outputs": [
    {
     "name": "stdout",
     "output_type": "stream",
     "text": [
      "Lamda= 5.0\n",
      "Binomial=P(X>=3)=0.8753\n",
      "Poisson=P(X>=3)=0.8753\n"
     ]
    }
   ],
   "source": [
    "#Ex5.12 ความน่าจะ ปีนของการผลิตตัวต้านทานผิดพลาดในระยะ วลา 10 ปี ปัน\n",
    "#10 กำลัง -6 ถ้าตัวต้านทาน 5 ล้านตัวได้ขายไปจดหมด จงหาความน่าจะ ปันที่จำนวนตัว\n",
    "#ต้านทานผิดพลาดไม่น้อยกว่า 3.ในระยะ วลา 10 ปี\n",
    "\n",
    "x = 3 #จำนวนตัวต้านทานผิดพลาดไม่น้อยกว่า 3.ในระยะ วลา 10 ปี\n",
    "n = 5000000 #ต้านทาน 5 ล้านตัวได้ขายไปจดหมด\n",
    "p = 10**-6 #ตัวต้านทานผิดพลาดในระยะ วลา 10 ปี ปัน10 กำลัง -6\n",
    "\n",
    "lamda = n * p\n",
    "print('Lamda=',lamda)\n",
    "\n",
    "prob1 = 1-st.binom.cdf(x-1,n,p)\n",
    "print('Binomial=P(X>=%d)=%.4f'%(x,prob1))\n",
    "\n",
    "prob2 = 1-st.poisson.cdf(x-1,lamda)\n",
    "print('Poisson=P(X>=%d)=%.4f'%(x,prob2))"
   ]
  },
  {
   "cell_type": "code",
   "execution_count": null,
   "id": "fa133da0",
   "metadata": {},
   "outputs": [],
   "source": [
    "# 5.2 การแจกแจงแบบต่อเนื่อง"
   ]
  },
  {
   "cell_type": "code",
   "execution_count": null,
   "id": "20bfc2cb",
   "metadata": {},
   "outputs": [],
   "source": [
    "# 5.2.1  การแจกแจงสม่ำเสมอ Uniform\n",
    "#pdf"
   ]
  },
  {
   "cell_type": "code",
   "execution_count": 56,
   "id": "7f177dfb",
   "metadata": {},
   "outputs": [
    {
     "name": "stdout",
     "output_type": "stream",
     "text": [
      "P(X<40)=0.2000\n",
      "P(X>50)=0.6000\n",
      "P(X<40)+P(X>50)=0.8000\n",
      "E(X)=55.0000, var=208.3333, std=14.4338\n"
     ]
    }
   ],
   "source": [
    "#Ex5.13 ตัวอย่าง 5.13 ให้Xนตัวแปรสุ่มของคะแนนสอบที่มีการกระจายตัวแบบยูนิฟอร์มระหว่าง\n",
    "#ช่วง 30 คะแนนถึง 80 คะแนน ( ติ๊ม 100 คะแนน) จงหาความน่าจะ ปีนที่ X<40 และ X>50\n",
    "#รวมทั้งค่าคาดหวัง และความแปรปรวน\n",
    "\n",
    "#วิธีทำ \n",
    "# X<40 '' 40 - 30 / 80 - 30  = 10 / 50 = 0.2000\n",
    "# X>50 '' 1 - 50 - 30 / 80 - 30 = 1 - 20 - 50 = 1 - 0.4 = 0.6\n",
    "\n",
    "a = 30\n",
    "b = 80\n",
    "\n",
    "x1 = 40\n",
    "prob1=st.uniform.cdf(x1,a,b-a) #ความน่าจะ ปีนที่ X<40\n",
    "print('P(X<%d)=%.4f'%(x1,prob1))\n",
    "\n",
    "x2=50\n",
    "prob2=1-st.uniform.cdf(x2,a,b-a) #ความน่าจะ ปีนที่ X>50\n",
    "print('P(X>%d)=%.4f'%(x2,prob2))\n",
    "\n",
    "print('P(X<%d)+P(X>%d)=%.4f'%(x1,x2,prob1+prob2))#เอามา + กัน\n",
    "      \n",
    "mean, var = st.uniform.stats(a,b-a)#ค่าคาดหวัง และความแปรปรวน\n",
    "print('E(X)=%.4f, var=%.4f, std=%.4f'%(mean, var, math.sqrt(var)))"
   ]
  },
  {
   "cell_type": "code",
   "execution_count": null,
   "id": "f1fae88f",
   "metadata": {},
   "outputs": [],
   "source": [
    "# 5.2.2 การแจกแจงปกติ Normal"
   ]
  },
  {
   "cell_type": "code",
   "execution_count": 57,
   "id": "7615f1ea",
   "metadata": {},
   "outputs": [
    {
     "name": "stdout",
     "output_type": "stream",
     "text": [
      "P(X<2.30)=0.0808\n",
      "P(Z<-1.40)=0.0808\n"
     ]
    }
   ],
   "source": [
    "#Ex5.14 แบต ตอรี่ชนิดหนึ่งมีอายใช้งาน ฉลี่ย 3 ปี และส่วน บียง บนมาตรฐาน 0.5\n",
    "#ปี สมมติว่าอายุใช้งานของแบต ตอรี่ชนิดนี้มีการแจกแจงปกติ จงหาความน่าจะ ป็นที่\n",
    "#แบต ตอรี่ชนิดนี้จะมีอายน้อยกว่า 2.3 ปี\n",
    "\n",
    "#กรณีการแจกแจงปกติ\n",
    "mu = 3 #อายใช้งาน ฉลี่ย 3 ปี \n",
    "sigma = 0.5 #ส่วน บียง บนมาตรฐาน 0.5 ปี \n",
    "x = 2.3 #มีอายน้อยกว่า 2.3 ปี\n",
    "\n",
    "prob = st.norm.cdf(x,mu,sigma)\n",
    "print('P(X<%.2f)=%.4f'%(x,prob))\n",
    "\n",
    "#กรณีการแจกแจงปกติมาตรฐาน\n",
    "\n",
    "Z = (x-mu)/sigma\n",
    "\n",
    "prob=st.norm.cdf(Z)\n",
    "print('P(Z<%.2f)=%.4f'%(Z,prob))"
   ]
  },
  {
   "cell_type": "code",
   "execution_count": 60,
   "id": "b48b8a75",
   "metadata": {},
   "outputs": [
    {
     "name": "stdout",
     "output_type": "stream",
     "text": [
      "P(13000kX<20000)=0.6124\n",
      "p2=0.7041,p1=0.0917\n",
      "P(-1.33<Z<0.54)=0.6124\n"
     ]
    }
   ],
   "source": [
    "#Ex5.15 ในรายการหนี้สินของผู้บริโภค (ผ่อนรถ, ครดิตการ์ด อื่น 1) ของครอบครัว\n",
    "#คนไทย มีค่า ฉลี่ยประมาณ 17,989 บาท ในปี 2012 ถ้าสมมติว่าหนี้สินทุกครอบครัวของ\n",
    "#คนไทยมีการแจกแจงปกติ โดยมีค่า ฉลี่ยอยู่ที่ 17,989 และมีส่วน บียง บนมาตรฐาน คือ\n",
    "#3,750 บาท จงหาความน่าจะ ปีนที่ครอบครัวคนไทยจะมีหนี้สินอยู่ในช่วงระหว่าง 13,000\n",
    "#และ 20,000 บาท จากครอบครัวที่ได้สุ่มตัวอย่างมา\n",
    "\n",
    "mu = 17989 #ค่า ฉลี่ยประมาณ 17,989 บาท ในปี 2012\n",
    "sigma = 3750#มีส่วน บียง บนมาตรฐาน คือ 3,750 บาท \n",
    "x1 = 13000 #มีหนี้สินอยู่ในช่วงระหว่าง 13,000 บาท\n",
    "x2 = 20000 #มีหนี้สินอยู่ในช่วงระหว่าง 20000 บาท\n",
    "\n",
    "#กรณีการแจกแจงปกติ\n",
    "prob = st.norm.cdf(x2,mu,sigma) - st.norm.cdf(x1,mu,sigma)\n",
    "print('P(%dkX<%d)=%.4f'%(x1,x2,prob))\n",
    "\n",
    "#กรณีการแจกแจงปกติมาตรฐาน\n",
    "z1 = (x1-mu)/sigma\n",
    "z2 = (x2-mu)/sigma\n",
    "\n",
    "p1 = st.norm.cdf(z1)\n",
    "p2 = st.norm.cdf(z2)\n",
    "print('p2=%.4f,p1=%.4f'%(p2,p1))\n",
    "\n",
    "prob = p2 - p1\n",
    "print('P(%.2f<Z<%.2f)=%.4f'%(z1,z2,prob))"
   ]
  },
  {
   "cell_type": "code",
   "execution_count": null,
   "id": "d4a46678",
   "metadata": {},
   "outputs": [],
   "source": [
    "# 5.2.3 การแจกแจงทวินามโดยใช้การแจกแจงปกติ"
   ]
  },
  {
   "cell_type": "code",
   "execution_count": 65,
   "id": "8a1a5d13",
   "metadata": {},
   "outputs": [
    {
     "name": "stdout",
     "output_type": "stream",
     "text": [
      "p2=0.9954, p1=0.9195\n",
      "P(25<X<30)=0.0759\n"
     ]
    }
   ],
   "source": [
    "# Ex5.16 ข้อสอบแบบปนัย 200 ข้อ แต่ละข้อมีคำตอบให้ ลือกตอบ 4 ข้อ ซึ่งจะมี\n",
    "#คำตอบที่ถูกต้องรวมอยู่ 1 ข้อ ถ้ามีข้อสอบ 80 ข้อ ที่คาดว่านัก รียนไม่มีความรู้ที่จะตอบได้\n",
    "#จริงๆ จงหาโอกาสที่นัก รียนจะตอบถูกโดยการ ดาได้ตั้งแต่ 25 ถึง 30 ข้อ\n",
    "\n",
    "# ใช้ Binomial คำนวณ\n",
    "n = 80 #ข้อสอบ 80 ข้อ\n",
    "p = 1/4 #มีคำตอบให้ ลือกตอบ 4 ข้อ ซึ่งจะมีคำตอบที่ถูกต้องรวมอยู่ 1 ข้อ \n",
    "x1 = 25 #โอกาสที่นัก รียนจะตอบถูกโดยการ ดาได้ตั้งแต่ 25\n",
    "x2 = 30 ##โอกาสที่นัก รียนจะตอบถูกโดยการ ดาได้ตั้งแต่ 30\n",
    "\n",
    "p1 = st.binom.cdf(x1,n,p)\n",
    "p2 = st.binom.cdf(x2,n,p)\n",
    "print('p2=%.4f, p1=%.4f'%(p2,p1))\n",
    "\n",
    "prob1 = p2 - p1\n",
    "print('P(%d<X<%d)=%.4f'%(x1,x2,prob1))"
   ]
  },
  {
   "cell_type": "code",
   "execution_count": 68,
   "id": "9ac73bbe",
   "metadata": {},
   "outputs": [
    {
     "name": "stdout",
     "output_type": "stream",
     "text": [
      "mu=20.0000,sigma=3.8730\n",
      "P(25.00<X<30.00)=0.0934\n",
      "P(1.29<Z<2.58)=0.0934\n"
     ]
    }
   ],
   "source": [
    "# ใช้การแจกแจงปกติ\n",
    "mu = n*p\n",
    "\n",
    "sigma = math.sqrt(n*p*(1-p))\n",
    "print('mu=%.4f,sigma=%.4f'%(mu, sigma))\n",
    "\n",
    "p1=st.norm.cdf(x1,mu,sigma)\n",
    "p2=st.norm.cdf(x2,mu,sigma)\n",
    "\n",
    "prob1=p2-p1\n",
    "print('P(%.2f<X<%.2f)=%.4f'%(x1,x2,prob1))\n",
    "\n",
    "# ใช้การแจกแจงปกติมาตรฐาน\n",
    "z1=(x1-mu)/sigma\n",
    "z2=(x2-mu)/sigma\n",
    "\n",
    "p1=st.norm.cdf(z1)\n",
    "p2=st.norm.cdf(z2)\n",
    "\n",
    "prob2=p2-p1\n",
    "print('P(%.2f<Z<%.2f)=%.4f'%(z1,z2,prob2))"
   ]
  }
 ],
 "metadata": {
  "kernelspec": {
   "display_name": "Python 3 (ipykernel)",
   "language": "python",
   "name": "python3"
  },
  "language_info": {
   "codemirror_mode": {
    "name": "ipython",
    "version": 3
   },
   "file_extension": ".py",
   "mimetype": "text/x-python",
   "name": "python",
   "nbconvert_exporter": "python",
   "pygments_lexer": "ipython3",
   "version": "3.8.10"
  }
 },
 "nbformat": 4,
 "nbformat_minor": 5
}
