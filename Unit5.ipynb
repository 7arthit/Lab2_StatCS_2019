{
 "cells": [
  {
   "cell_type": "code",
   "execution_count": 2,
   "id": "75ff72c7",
   "metadata": {},
   "outputs": [
    {
     "name": "stdout",
     "output_type": "stream",
     "text": [
      "P(X=1)=0.3750\n",
      "P(X=0)=0.6250\n",
      "E(X)=0.3750, var=0.2344, std=0.4841\n"
     ]
    }
   ],
   "source": [
    "import scipy.stats as st\n",
    "import math\n",
    "\n",
    "x=1\n",
    "p=3/8\n",
    "prob=st.bernoulli.pmf(x,p)\n",
    "print('P(X=%d)=%.4f'%(x,prob))\n",
    "print('P(X=%d)=%.4f'%(0,1-prob))\n",
    "mean, var = st.bernoulli.stats(p)\n",
    "print('E(X)=%.4f, var=%.4f, std=%.4f'%(mean,var, math.sqrt(var)))"
   ]
  },
  {
   "cell_type": "code",
   "execution_count": 2,
   "id": "7176d117",
   "metadata": {},
   "outputs": [
    {
     "name": "stdout",
     "output_type": "stream",
     "text": [
      "P(X=2)=0.3750\n",
      "E(X)=1.5000,var=0.7500, std=0.8660\n"
     ]
    }
   ],
   "source": [
    "# Binomial\n",
    "\n",
    "#Ex5.3\n",
    "x=2\n",
    "n=3\n",
    "p=0.5\n",
    "prob=st.binom.pmf(x,n,p)\n",
    "print('P(X=%d)=%.4f'%(x,prob))\n",
    "mean, var = st.binom.stats(n,p)\n",
    "print('E(X)=%.4f,var=%.4f, std=%.4f'%(mean,var, math.sqrt(var)))"
   ]
  },
  {
   "cell_type": "code",
   "execution_count": 4,
   "id": "76b0bbeb",
   "metadata": {},
   "outputs": [
    {
     "name": "stdout",
     "output_type": "stream",
     "text": [
      "P(X>=2)=0.0052\n",
      "E(X)=0.1100,var=0.1089,std=0.3300\n"
     ]
    }
   ],
   "source": [
    "#Ex5.4\n",
    "X,n,p=2,11,0.01\n",
    "prob=1-st.binom.cdf(x-1,n,p)\n",
    "print('P(X>=%d)=%.4f'%(x,prob))\n",
    "mean, var = st.binom.stats(n,p)\n",
    "print('E(X)=%.4f,var=%.4f,std=%.4f'%(mean, var, math.sqrt(var)))"
   ]
  },
  {
   "cell_type": "code",
   "execution_count": 9,
   "id": "51f5bd2c",
   "metadata": {},
   "outputs": [
    {
     "name": "stdout",
     "output_type": "stream",
     "text": [
      "ก) P(X<=4)=0.7415\n",
      "ข) P(X=5)=0.1468\n",
      "ค)E(X)=3.5000,var=2.6250,std=1.6202\n"
     ]
    }
   ],
   "source": [
    "#Ex5.5\n",
    "n,p=14,0.25\n",
    "x1=4\n",
    "prob=st.binom.cdf(x1,n,p)\n",
    "print('ก) P(X<=%d)=%.4f'%(x1,prob))\n",
    "x2=5\n",
    "prob=st.binom.pmf(x2,n,p)\n",
    "print('ข) P(X=%d)=%.4f'%(x2,prob))\n",
    "mean, var = st.binom.stats(n,p)\n",
    "print('ค)E(X)=%.4f,var=%.4f,std=%.4f'%(mean,var,math.sqrt(var)))"
   ]
  },
  {
   "cell_type": "code",
   "execution_count": 10,
   "id": "c08582e3",
   "metadata": {},
   "outputs": [
    {
     "name": "stdout",
     "output_type": "stream",
     "text": [
      "E(X)=200.0000,var=160.0000, std=12.6491\n"
     ]
    }
   ],
   "source": [
    "#Ex5.6\n",
    "n,p=1000,0.2\n",
    "mean, var = st.binom.stats(n,p)\n",
    "print('E(X)=%.4f,var=%.4f, std=%.4f'%(mean,var, math.sqrt(var)))"
   ]
  },
  {
   "cell_type": "code",
   "execution_count": null,
   "id": "dbcef5fb",
   "metadata": {},
   "outputs": [],
   "source": []
  }
 ],
 "metadata": {
  "kernelspec": {
   "display_name": "Python 3 (ipykernel)",
   "language": "python",
   "name": "python3"
  },
  "language_info": {
   "codemirror_mode": {
    "name": "ipython",
    "version": 3
   },
   "file_extension": ".py",
   "mimetype": "text/x-python",
   "name": "python",
   "nbconvert_exporter": "python",
   "pygments_lexer": "ipython3",
   "version": "3.8.10"
  }
 },
 "nbformat": 4,
 "nbformat_minor": 5
}
