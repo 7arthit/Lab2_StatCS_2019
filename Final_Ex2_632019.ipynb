{
 "cells": [
  {
   "cell_type": "code",
   "execution_count": 6,
   "id": "3bb024a6",
   "metadata": {},
   "outputs": [
    {
     "name": "stdout",
     "output_type": "stream",
     "text": [
      "z = 10.809339210113263\n",
      "cv = [2.32634787]\n",
      "Reject H0\n"
     ]
    }
   ],
   "source": [
    "# 63011212019 นายอาทิตย์ ทวีบท\n",
    "#H0 : mu1 - mu2 = 0 , H1 : mu1 - mu2  > 0\n",
    "import scipy.stats as st\n",
    "import math\n",
    "d = 0 \n",
    "x1 = 13200 #ค่าเฉลี่ย A\n",
    "x2 = 12550 #ค่าเฉลี่ย B\n",
    "s2_1 = 280**2 #ค่าเบี่ยงเบนมาตรฐาน A\n",
    "s2_2 = 320**2 #ค่าเบี่ยงเบนมาตรฐาน B\n",
    "n1 = 50 #สุ่มตัวอย่าง SSD A\n",
    "n2 = 50 #สุ่มตัวอย่าง SSD B\n",
    "alpha = 0.01 #ระดับนัยสำคัญ 0.01\n",
    "\n",
    "#กรณีที่ 2 แจกแจงใดๆ ไม่ทราบค่าความแปรปรวน \n",
    "z =  ((x1-x2) - d)/math.sqrt((s2_1/n1)+(s2_2/n2)) \n",
    "print('z =',z)\n",
    "\n",
    "cv = st.norm.ppf([1-alpha]) #ค่าวิกฤต\n",
    "print('cv =',cv)\n",
    "\n",
    "if z <= cv:\n",
    "    print('Accept H0') #บริเวรยอมรับ\n",
    "else:\n",
    "    print('Reject H0') #บริเวณปฏิเสธ"
   ]
  },
  {
   "cell_type": "code",
   "execution_count": null,
   "id": "de014a8b",
   "metadata": {},
   "outputs": [],
   "source": []
  }
 ],
 "metadata": {
  "kernelspec": {
   "display_name": "Python 3 (ipykernel)",
   "language": "python",
   "name": "python3"
  },
  "language_info": {
   "codemirror_mode": {
    "name": "ipython",
    "version": 3
   },
   "file_extension": ".py",
   "mimetype": "text/x-python",
   "name": "python",
   "nbconvert_exporter": "python",
   "pygments_lexer": "ipython3",
   "version": "3.8.10"
  }
 },
 "nbformat": 4,
 "nbformat_minor": 5
}
