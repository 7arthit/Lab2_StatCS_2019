{
 "cells": [
  {
   "cell_type": "code",
   "execution_count": 2,
   "id": "c4ffc155",
   "metadata": {},
   "outputs": [
    {
     "name": "stdout",
     "output_type": "stream",
     "text": [
      "chi2 = 3.3333333333333335\n",
      "cv = [44.3141049]\n",
      "Accept H0\n"
     ]
    }
   ],
   "source": [
    "# 63011212019 นายอาทิตย์ ทวีบท\n",
    "#H0 : var = 0.15 ,H1 : var > 0.15\n",
    "import scipy.stats as st\n",
    "import math\n",
    "var = 0.15 #ส่วนเบี่ยงเบนมาตรฐาน\n",
    "s2 = 0.02 #ความแปรปรวน \n",
    "n = 26 #สุ่มตัวอย่างชิ้นส่วนมา 25 ชิ้น\n",
    "alpha = 0.01 # ระดับนัยสำคัญ\n",
    "df = n - 1 #การแจกแจงองศาอิสระ\n",
    "\n",
    "chi2 = (df*s2)/var #จากสูตร\n",
    "print('chi2 =',chi2)\n",
    "\n",
    "cv = st.chi2.ppf([1-alpha],df)  #ค่าวิกฤต\n",
    "print('cv =',cv)\n",
    "\n",
    "if chi2 <= cv:\n",
    "    print('Accept H0') #บริเวรยอมรับ\n",
    "else:\n",
    "    print('Reject H0') #บริเวณปฏิเสธ"
   ]
  },
  {
   "cell_type": "code",
   "execution_count": null,
   "id": "f6bd2b95",
   "metadata": {},
   "outputs": [],
   "source": []
  }
 ],
 "metadata": {
  "kernelspec": {
   "display_name": "Python 3 (ipykernel)",
   "language": "python",
   "name": "python3"
  },
  "language_info": {
   "codemirror_mode": {
    "name": "ipython",
    "version": 3
   },
   "file_extension": ".py",
   "mimetype": "text/x-python",
   "name": "python",
   "nbconvert_exporter": "python",
   "pygments_lexer": "ipython3",
   "version": "3.8.10"
  }
 },
 "nbformat": 4,
 "nbformat_minor": 5
}
