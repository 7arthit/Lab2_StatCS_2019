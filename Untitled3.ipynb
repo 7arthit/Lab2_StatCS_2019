{
 "cells": [
  {
   "cell_type": "code",
   "execution_count": 3,
   "id": "20c2a8dc",
   "metadata": {},
   "outputs": [
    {
     "ename": "SyntaxError",
     "evalue": "EOL while scanning string literal (Temp/ipykernel_12856/1587920837.py, line 12)",
     "output_type": "error",
     "traceback": [
      "\u001b[1;36m  File \u001b[1;32m\"C:\\Users\\Asus\\AppData\\Local\\Temp/ipykernel_12856/1587920837.py\"\u001b[1;36m, line \u001b[1;32m12\u001b[0m\n\u001b[1;33m    plt. plot(year , profit,' rx:',year,cost,'bo-\")\u001b[0m\n\u001b[1;37m                                                   ^\u001b[0m\n\u001b[1;31mSyntaxError\u001b[0m\u001b[1;31m:\u001b[0m EOL while scanning string literal\n"
     ]
    }
   ],
   "source": [
    "import numpy as np\n",
    "import matplotlib.pyplot as plt\n",
    "profit = np.array([20.5,18.25,19.7,25.2 ,26.4, 23.13] )\n",
    "plt.figure(1)\n",
    "plt.plot(profit)\n",
    "year = np.arange (1998,2004)\n",
    "plt. figure (2)\n",
    "plt.plot(year,profit)\n",
    "cost = np.array([15.5,13.25,14.7,20.2,22.4,20.13])\n",
    "plt.axis ([1997,2004,0,30])\n",
    "plt.figure (3)\n",
    "plt. plot(year , profit,' rx:',year,cost,'bo-\")\n",
    "pit.xlabel('Year')\n",
    "pit.ylabel('Profit & cost (Million Baht)')\n",
    "pit.title('Present graph')\n",
    "plt.show()"
   ]
  },
  {
   "cell_type": "code",
   "execution_count": null,
   "id": "a62c0085",
   "metadata": {},
   "outputs": [],
   "source": []
  },
  {
   "cell_type": "code",
   "execution_count": null,
   "id": "a03ce0e8",
   "metadata": {},
   "outputs": [],
   "source": []
  }
 ],
 "metadata": {
  "kernelspec": {
   "display_name": "Python 3 (ipykernel)",
   "language": "python",
   "name": "python3"
  },
  "language_info": {
   "codemirror_mode": {
    "name": "ipython",
    "version": 3
   },
   "file_extension": ".py",
   "mimetype": "text/x-python",
   "name": "python",
   "nbconvert_exporter": "python",
   "pygments_lexer": "ipython3",
   "version": "3.8.10"
  }
 },
 "nbformat": 4,
 "nbformat_minor": 5
}
