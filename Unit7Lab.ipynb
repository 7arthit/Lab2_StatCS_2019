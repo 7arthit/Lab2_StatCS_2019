{
 "cells": [
  {
   "cell_type": "code",
   "execution_count": 30,
   "id": "e6820d22",
   "metadata": {},
   "outputs": [
    {
     "data": {
      "text/plain": [
       "2.5"
      ]
     },
     "execution_count": 30,
     "metadata": {},
     "output_type": "execute_result"
    }
   ],
   "source": [
    "import numpy as np \n",
    "\n",
    "# 7.1 ค่าเฉลี่ย (Mean) \n",
    "#ตัวแปร = numpy.mean(array, axis=None, dtype=None)\n",
    "#array = ข้อมลู array \n",
    "#axis = dim หรือมติของ array ที่ต้องการให้คำนวณหาผลลัพธ์ถ้า axis = 0 หมายถึง\n",
    "#หาผลลัพธ์ในแต่ละ column ถ้า axis = 1 หมายถึงให้หาผลลัพธ์ในแต่ ละ  row \n",
    "#dtype = ชนิดของข้อมูล\n",
    "\n",
    "a = np.array([[1, 2], [3, 4]]) \n",
    "np.mean(a)"
   ]
  },
  {
   "cell_type": "code",
   "execution_count": 10,
   "id": "81ac4bfb",
   "metadata": {
    "scrolled": true
   },
   "outputs": [
    {
     "data": {
      "text/plain": [
       "array([2., 3.])"
      ]
     },
     "execution_count": 10,
     "metadata": {},
     "output_type": "execute_result"
    }
   ],
   "source": [
    "np.mean(a, axis=0) #column"
   ]
  },
  {
   "cell_type": "code",
   "execution_count": 11,
   "id": "e1d46327",
   "metadata": {},
   "outputs": [
    {
     "data": {
      "text/plain": [
       "array([1.5, 3.5])"
      ]
     },
     "execution_count": 11,
     "metadata": {},
     "output_type": "execute_result"
    }
   ],
   "source": [
    "np.mean(a, axis=1) #column"
   ]
  },
  {
   "cell_type": "code",
   "execution_count": 23,
   "id": "05a59cd2",
   "metadata": {},
   "outputs": [
    {
     "data": {
      "text/plain": [
       "2.0"
      ]
     },
     "execution_count": 23,
     "metadata": {},
     "output_type": "execute_result"
    }
   ],
   "source": [
    "b = np.array([1, 2, 3]) \n",
    "np.mean(b)"
   ]
  },
  {
   "cell_type": "code",
   "execution_count": 13,
   "id": "957c5ea9",
   "metadata": {},
   "outputs": [
    {
     "data": {
      "text/plain": [
       "0.54999924"
      ]
     },
     "execution_count": 13,
     "metadata": {},
     "output_type": "execute_result"
    }
   ],
   "source": [
    "a = np.zeros((2, 512*512), dtype=np.float32) \n",
    "a[0, :] = 1.0 \n",
    "a[1, :] = 0.1 \n",
    "np.mean(a)"
   ]
  },
  {
   "cell_type": "code",
   "execution_count": 14,
   "id": "4839edd8",
   "metadata": {},
   "outputs": [
    {
     "data": {
      "text/plain": [
       "0.5500000007450581"
      ]
     },
     "execution_count": 14,
     "metadata": {},
     "output_type": "execute_result"
    }
   ],
   "source": [
    "np.mean(a, dtype=np.float64)"
   ]
  },
  {
   "cell_type": "code",
   "execution_count": 31,
   "id": "3f6ec5af",
   "metadata": {},
   "outputs": [
    {
     "name": "stdout",
     "output_type": "stream",
     "text": [
      "[[0. 0. 0. 0. 0. 0. 0. 0. 0. 0.]\n",
      " [0. 0. 0. 0. 0. 0. 0. 0. 0. 0.]]\n",
      "(2, 10)\n",
      "[[1. 1. 1. 1. 1. 1. 1. 1. 1. 1.]\n",
      " [0. 0. 0. 0. 0. 0. 0. 0. 0. 0.]]\n",
      "[[1.  1.  1.  1.  1.  1.  1.  1.  1.  1. ]\n",
      " [0.2 0.2 0.2 0.2 0.2 0.2 0.2 0.2 0.2 0.2]]\n",
      "0.5999999999999999\n",
      "[0.6 0.6 0.6 0.6 0.6 0.6 0.6 0.6 0.6 0.6]\n",
      "[1.  0.2]\n",
      "[1.  0.1]\n"
     ]
    }
   ],
   "source": [
    "a = np.zeros((2,10))\n",
    "print(a)\n",
    "print(a.shape)\n",
    "a[0,:]=1.0\n",
    "print(a)\n",
    "a[1, :]=0.2\n",
    "print(a)\n",
    "print(np.mean(a))\n",
    "print(np.mean(a,axis=0))\n",
    "print(np.mean(a,axis=1))\n",
    "a[1,:]=0.1\n",
    "print(np.mean(a,axis=1))"
   ]
  },
  {
   "cell_type": "code",
   "execution_count": 19,
   "id": "6b08fbd4",
   "metadata": {},
   "outputs": [
    {
     "name": "stdout",
     "output_type": "stream",
     "text": [
      "[[1 2 3]\n",
      " [4 5 6]\n",
      " [2 4 8]]\n",
      "mean = 3.888888888888889\n",
      "variance(population) = 4.320987654320987\n",
      "variance(example) = 4.861111111111111\n",
      "std(pop) = 2.078698548207745\n",
      "std(ex) = 2.204792759220492\n"
     ]
    }
   ],
   "source": [
    "# ค่าส่วนเบี่ยงเบนมาตรฐาน (Standard deviation)\n",
    "a = np.array([[1,2,3],[4,5,6],[2,4,8]])\n",
    "print(a)\n",
    "print('mean =',np.mean(a))\n",
    "print('variance(population) =',np.var(a))\n",
    "print('variance(example) =',np.var(a,ddof=1))\n",
    "print('std(pop) =',np.std(a))\n",
    "print('std(ex) =' ,np.std(a,ddof=1))"
   ]
  },
  {
   "cell_type": "code",
   "execution_count": 42,
   "id": "56f6c030",
   "metadata": {},
   "outputs": [
    {
     "name": "stdout",
     "output_type": "stream",
     "text": [
      "4.0\n",
      "[2. 5. 4.]\n",
      "[[1 4 2]\n",
      " [2 5 4]\n",
      " [3 6 8]]\n",
      "[2. 4. 6.]\n",
      "(9,)\n",
      "[1 2 2 3 4 4 5 6 8]\n"
     ]
    }
   ],
   "source": [
    "import numpy as np\n",
    "a=[[1,2,3],[4,5,6], [2,4, 8] ]\n",
    "a=np.array(a)\n",
    "print(np.median(a))\n",
    "print(np.median(a,axis=1))\n",
    "b=a.T\n",
    "print(b)\n",
    "print(np.median(b,axis=1))\n",
    "a.resize(9)\n",
    "print(a.shape)\n",
    "print(np.sort(a))"
   ]
  },
  {
   "cell_type": "code",
   "execution_count": 34,
   "id": "789d8851",
   "metadata": {},
   "outputs": [
    {
     "name": "stdout",
     "output_type": "stream",
     "text": [
      "ModeResult(mode=array([[1, 3, 1, 0]]), count=array([[1, 2, 1, 1]]))\n",
      "ModeResult(mode=array([[1],\n",
      "       [3],\n",
      "       [0]]), count=array([[1],\n",
      "       [2],\n",
      "       [1]]))\n",
      "[1 2 3 4 2 3 5 3 4 3 1 0]\n",
      "[3] [4]\n"
     ]
    },
    {
     "ename": "ValueError",
     "evalue": "too many values to unpack (expected 1)",
     "output_type": "error",
     "traceback": [
      "\u001b[1;31m---------------------------------------------------------------------------\u001b[0m",
      "\u001b[1;31mValueError\u001b[0m                                Traceback (most recent call last)",
      "\u001b[1;32m~\\AppData\\Local\\Temp/ipykernel_8864/1404183076.py\u001b[0m in \u001b[0;36m<module>\u001b[1;34m\u001b[0m\n\u001b[0;32m     10\u001b[0m \u001b[0mmd\u001b[0m\u001b[1;33m,\u001b[0m \u001b[0mcnt\u001b[0m \u001b[1;33m=\u001b[0m \u001b[0mstats\u001b[0m\u001b[1;33m.\u001b[0m\u001b[0mmode\u001b[0m\u001b[1;33m(\u001b[0m\u001b[0mC\u001b[0m\u001b[1;33m)\u001b[0m\u001b[1;33m\u001b[0m\u001b[1;33m\u001b[0m\u001b[0m\n\u001b[0;32m     11\u001b[0m \u001b[0mprint\u001b[0m\u001b[1;33m(\u001b[0m\u001b[0mmd\u001b[0m\u001b[1;33m,\u001b[0m\u001b[0mcnt\u001b[0m\u001b[1;33m)\u001b[0m\u001b[1;33m\u001b[0m\u001b[1;33m\u001b[0m\u001b[0m\n\u001b[1;32m---> 12\u001b[1;33m \u001b[0mmd\u001b[0m\u001b[1;33m,\u001b[0m \u001b[1;33m=\u001b[0m \u001b[0mstats\u001b[0m\u001b[1;33m.\u001b[0m\u001b[0mmode\u001b[0m\u001b[1;33m(\u001b[0m\u001b[0mC\u001b[0m\u001b[1;33m)\u001b[0m\u001b[1;33m\u001b[0m\u001b[1;33m\u001b[0m\u001b[0m\n\u001b[0m\u001b[0;32m     13\u001b[0m \u001b[0mprint\u001b[0m\u001b[1;33m(\u001b[0m\u001b[0mmd\u001b[0m\u001b[1;33m)\u001b[0m\u001b[1;33m\u001b[0m\u001b[1;33m\u001b[0m\u001b[0m\n",
      "\u001b[1;31mValueError\u001b[0m: too many values to unpack (expected 1)"
     ]
    }
   ],
   "source": [
    "#ค่าฐานนิยม (Mode) \n",
    "import scipy.stats as st\n",
    "a = [[1,2,3,4],[2,3,5,3],[4,3,1,0]]\n",
    "a = np.array(a)\n",
    "print(st.mode(a))\n",
    "print(st.mode(a,axis = 1))\n",
    "from scipy import stats\n",
    "C = a.reshape(12)\n",
    "print(C)\n",
    "md, cnt = stats.mode(C)\n",
    "print(md,cnt)\n",
    "md, = stats.mode(C)\n",
    "print(md)"
   ]
  },
  {
   "cell_type": "code",
   "execution_count": 39,
   "id": "3817be96",
   "metadata": {},
   "outputs": [
    {
     "name": "stdout",
     "output_type": "stream",
     "text": [
      "ModeResult(mode=array([[1, 3, 1, 0]]), count=array([[1, 2, 1, 1]]))\n",
      "ModeResult(mode=array([[1],\n",
      "       [3],\n",
      "       [0]]), count=array([[1],\n",
      "       [2],\n",
      "       [1]]))\n",
      "ModeResult(mode=array([3]), count=array([4]))\n",
      "[1 2 3 4 2 3 5 3 4 3 1 0]\n",
      "[3]\n",
      "[3] [4]\n"
     ]
    },
    {
     "ename": "ValueError",
     "evalue": "too many values to unpack (expected 1)",
     "output_type": "error",
     "traceback": [
      "\u001b[1;31m---------------------------------------------------------------------------\u001b[0m",
      "\u001b[1;31mValueError\u001b[0m                                Traceback (most recent call last)",
      "\u001b[1;32m~\\AppData\\Local\\Temp/ipykernel_8864/2242964485.py\u001b[0m in \u001b[0;36m<module>\u001b[1;34m\u001b[0m\n\u001b[0;32m     11\u001b[0m \u001b[0mmd\u001b[0m\u001b[1;33m,\u001b[0m \u001b[0mcnt\u001b[0m \u001b[1;33m=\u001b[0m\u001b[0mstats\u001b[0m\u001b[1;33m.\u001b[0m\u001b[0mmode\u001b[0m\u001b[1;33m(\u001b[0m\u001b[0mC\u001b[0m\u001b[1;33m)\u001b[0m\u001b[1;33m\u001b[0m\u001b[1;33m\u001b[0m\u001b[0m\n\u001b[0;32m     12\u001b[0m \u001b[0mprint\u001b[0m\u001b[1;33m(\u001b[0m\u001b[0mmd\u001b[0m\u001b[1;33m,\u001b[0m\u001b[0mcnt\u001b[0m\u001b[1;33m)\u001b[0m\u001b[1;33m\u001b[0m\u001b[1;33m\u001b[0m\u001b[0m\n\u001b[1;32m---> 13\u001b[1;33m \u001b[0mmd\u001b[0m\u001b[1;33m,\u001b[0m \u001b[1;33m=\u001b[0m\u001b[0mstats\u001b[0m\u001b[1;33m.\u001b[0m\u001b[0mmode\u001b[0m\u001b[1;33m(\u001b[0m\u001b[0mC\u001b[0m\u001b[1;33m)\u001b[0m\u001b[1;33m\u001b[0m\u001b[1;33m\u001b[0m\u001b[0m\n\u001b[0m\u001b[0;32m     14\u001b[0m \u001b[0mprint\u001b[0m\u001b[1;33m(\u001b[0m\u001b[0mmd\u001b[0m\u001b[1;33m)\u001b[0m\u001b[1;33m\u001b[0m\u001b[1;33m\u001b[0m\u001b[0m\n",
      "\u001b[1;31mValueError\u001b[0m: too many values to unpack (expected 1)"
     ]
    }
   ],
   "source": [
    "a = [[1,2,3,4],[2,3,5,3], [4,3,1,0] ]\n",
    "a = np.array(a)\n",
    "print(st.mode(a))\n",
    "print(st.mode(a,axis=1))\n",
    "print(st.mode(a,axis=None))\n",
    "from scipy import stats\n",
    "C=a.reshape(12)\n",
    "print(C)\n",
    "md=stats.mode(C)\n",
    "print(md[0])\n",
    "md, cnt =stats.mode(C)\n",
    "print(md,cnt)\n",
    "md, =stats.mode(C)\n",
    "print(md)"
   ]
  },
  {
   "cell_type": "code",
   "execution_count": null,
   "id": "fdf5ba3d",
   "metadata": {},
   "outputs": [],
   "source": []
  }
 ],
 "metadata": {
  "kernelspec": {
   "display_name": "Python 3 (ipykernel)",
   "language": "python",
   "name": "python3"
  },
  "language_info": {
   "codemirror_mode": {
    "name": "ipython",
    "version": 3
   },
   "file_extension": ".py",
   "mimetype": "text/x-python",
   "name": "python",
   "nbconvert_exporter": "python",
   "pygments_lexer": "ipython3",
   "version": "3.8.10"
  }
 },
 "nbformat": 4,
 "nbformat_minor": 5
}
