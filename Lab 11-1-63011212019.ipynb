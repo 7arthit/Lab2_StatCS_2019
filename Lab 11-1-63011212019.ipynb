{
 "cells": [
  {
   "cell_type": "code",
   "execution_count": 5,
   "id": "0816943e",
   "metadata": {},
   "outputs": [
    {
     "name": "stdout",
     "output_type": "stream",
     "text": [
      "z = 0.0\n",
      "[0.005, 0.995]\n",
      "cv= [-2.5758293  2.5758293]\n",
      "Accept H0\n"
     ]
    }
   ],
   "source": [
    "#1\n",
    "import scipy.stats as st\n",
    "import math\n",
    "\n",
    "mu, sigma, xbar, n = 37, 7, 37, 20\n",
    "alpha = 0.01\n",
    "\n",
    "z = (xbar - mu) / (sigma / math.sqrt(n))\n",
    "print('z =', z)\n",
    "p = [alpha / 2, 1 - alpha / 2]\n",
    "print(p)\n",
    "cv = st.norm.ppf(p)\n",
    "print('cv=', cv)\n",
    "\n",
    "if z >= cv[0] and z <= cv[1]:\n",
    "    print('Accept H0')\n",
    "else:\n",
    "    print('Reject H0')"
   ]
  },
  {
   "cell_type": "code",
   "execution_count": 6,
   "id": "b29a5a95",
   "metadata": {},
   "outputs": [
    {
     "name": "stdout",
     "output_type": "stream",
     "text": [
      "z = -2.0\n",
      "[0.9]\n",
      "cv= [1.28155157]\n",
      "Reject H0\n"
     ]
    }
   ],
   "source": [
    "#2\n",
    "import math\n",
    "import scipy.stats as st\n",
    "\n",
    "mu, s, xbar, n = 70000, 10000, 65000, 16\n",
    "alpha = 0.1\n",
    "\n",
    "z = (xbar - mu) / (s / math.sqrt(n))\n",
    "print('z =', z)\n",
    "p = [1 - alpha]\n",
    "print(p)\n",
    "cv = st.norm.ppf(p)\n",
    "print('cv=', cv)\n",
    "if z >= cv:\n",
    "    print('Accept H0')\n",
    "else:\n",
    "    print('Reject H0')"
   ]
  },
  {
   "cell_type": "code",
   "execution_count": null,
   "id": "ab0c2fd4",
   "metadata": {},
   "outputs": [],
   "source": []
  }
 ],
 "metadata": {
  "kernelspec": {
   "display_name": "Python 3 (ipykernel)",
   "language": "python",
   "name": "python3"
  },
  "language_info": {
   "codemirror_mode": {
    "name": "ipython",
    "version": 3
   },
   "file_extension": ".py",
   "mimetype": "text/x-python",
   "name": "python",
   "nbconvert_exporter": "python",
   "pygments_lexer": "ipython3",
   "version": "3.8.10"
  }
 },
 "nbformat": 4,
 "nbformat_minor": 5
}
