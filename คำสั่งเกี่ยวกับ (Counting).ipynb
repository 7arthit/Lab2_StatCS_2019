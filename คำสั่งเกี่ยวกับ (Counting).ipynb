{
 "cells": [
  {
   "cell_type": "code",
   "execution_count": 2,
   "id": "1f0b70be",
   "metadata": {},
   "outputs": [
    {
     "name": "stdout",
     "output_type": "stream",
     "text": [
      "['A', 'B', 'C']\n"
     ]
    }
   ],
   "source": [
    "# คำสั่ง list( )\n",
    "#[ตัวแปร = ] list(ข้อมูลลำดับ) \n",
    "a = list('ABC') \n",
    "print(a) "
   ]
  },
  {
   "cell_type": "code",
   "execution_count": 7,
   "id": "10cc375d",
   "metadata": {},
   "outputs": [
    {
     "name": "stdout",
     "output_type": "stream",
     "text": [
      "List elements : [123, 'xyz', 'zara', 'abc']\n"
     ]
    }
   ],
   "source": [
    "aTuple = (123, 'xyz', 'zara', 'abc') \n",
    "aList = list(aTuple) \n",
    "print('List elements :' , aList) "
   ]
  },
  {
   "cell_type": "code",
   "execution_count": 8,
   "id": "20f295fa",
   "metadata": {},
   "outputs": [
    {
     "name": "stdout",
     "output_type": "stream",
     "text": [
      "[1, 2, 3, 4, 5]\n"
     ]
    }
   ],
   "source": [
    "b = list(range(1,6)) \n",
    "print(b) "
   ]
  },
  {
   "cell_type": "code",
   "execution_count": 10,
   "id": "32cefb37",
   "metadata": {},
   "outputs": [
    {
     "name": "stdout",
     "output_type": "stream",
     "text": [
      "3\n"
     ]
    }
   ],
   "source": [
    "# คำสั่ง len( )\n",
    "#[ตัวแปร = ] len(array_list) \n",
    "a = list('ABC') \n",
    "print(len(a)) "
   ]
  },
  {
   "cell_type": "code",
   "execution_count": 11,
   "id": "86c7b788",
   "metadata": {},
   "outputs": [
    {
     "name": "stdout",
     "output_type": "stream",
     "text": [
      "4\n"
     ]
    }
   ],
   "source": [
    "aTuple = (123, 'xyz', 'zara', 'abc') \n",
    "aList = list(aTuple) \n",
    "print(len(aList)) "
   ]
  },
  {
   "cell_type": "code",
   "execution_count": 12,
   "id": "072e63ea",
   "metadata": {},
   "outputs": [
    {
     "name": "stdout",
     "output_type": "stream",
     "text": [
      "5\n"
     ]
    }
   ],
   "source": [
    "b = list(range(1,6)) \n",
    "print(len(b)) "
   ]
  },
  {
   "cell_type": "code",
   "execution_count": 13,
   "id": "b9b8b20d",
   "metadata": {},
   "outputs": [
    {
     "name": "stdout",
     "output_type": "stream",
     "text": [
      "A\n"
     ]
    }
   ],
   "source": [
    "# คำสั่ง  chr( ) และ ord( ) \n",
    "a = chr(65) \n",
    "print(a) "
   ]
  },
  {
   "cell_type": "code",
   "execution_count": 15,
   "id": "2442ba5b",
   "metadata": {},
   "outputs": [
    {
     "name": "stdout",
     "output_type": "stream",
     "text": [
      "65\n"
     ]
    }
   ],
   "source": [
    "b = ord('A') \n",
    "print(b) "
   ]
  }
 ],
 "metadata": {
  "kernelspec": {
   "display_name": "Python 3 (ipykernel)",
   "language": "python",
   "name": "python3"
  },
  "language_info": {
   "codemirror_mode": {
    "name": "ipython",
    "version": 3
   },
   "file_extension": ".py",
   "mimetype": "text/x-python",
   "name": "python",
   "nbconvert_exporter": "python",
   "pygments_lexer": "ipython3",
   "version": "3.8.10"
  }
 },
 "nbformat": 4,
 "nbformat_minor": 5
}
