{
 "cells": [
  {
   "cell_type": "code",
   "execution_count": 2,
   "id": "ca8a3165",
   "metadata": {},
   "outputs": [
    {
     "ename": "SyntaxError",
     "evalue": "invalid syntax (Temp/ipykernel_11448/2890418885.py, line 17)",
     "output_type": "error",
     "traceback": [
      "\u001b[1;36m  File \u001b[1;32m\"C:\\Users\\Asus\\AppData\\Local\\Temp/ipykernel_11448/2890418885.py\"\u001b[1;36m, line \u001b[1;32m17\u001b[0m\n\u001b[1;33m    if t> = cv:\u001b[0m\n\u001b[1;37m          ^\u001b[0m\n\u001b[1;31mSyntaxError\u001b[0m\u001b[1;31m:\u001b[0m invalid syntax\n"
     ]
    }
   ],
   "source": [
    "#Ex 7.7\n",
    "import scipy.stats as st\n",
    "import math\n",
    "\n",
    "mu,s,xbar,n = 45,20,35,28\n",
    "alpha = 0.01\n",
    "df = n-1\n",
    "\n",
    "t = (xbar-mu)/(s/math.sqrt(n))\n",
    "print('t=',t)\n",
    "\n",
    "p = [alpha]\n",
    "print(p)\n",
    "\n",
    "cv = st.t.ppf(p,df)\n",
    "print('cv=',cv)\n",
    "if t> = cv:\n",
    "    print('Accept HO')\n",
    "else:\n",
    "    print('Reject HO')"
   ]
  },
  {
   "cell_type": "code",
   "execution_count": null,
   "id": "b3ac86d4",
   "metadata": {},
   "outputs": [],
   "source": []
  }
 ],
 "metadata": {
  "kernelspec": {
   "display_name": "Python 3 (ipykernel)",
   "language": "python",
   "name": "python3"
  },
  "language_info": {
   "codemirror_mode": {
    "name": "ipython",
    "version": 3
   },
   "file_extension": ".py",
   "mimetype": "text/x-python",
   "name": "python",
   "nbconvert_exporter": "python",
   "pygments_lexer": "ipython3",
   "version": "3.8.10"
  }
 },
 "nbformat": 4,
 "nbformat_minor": 5
}
