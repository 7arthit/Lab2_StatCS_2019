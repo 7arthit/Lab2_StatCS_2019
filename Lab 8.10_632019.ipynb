{
 "cells": [
  {
   "cell_type": "code",
   "execution_count": 9,
   "id": "3f0f0790",
   "metadata": {},
   "outputs": [
    {
     "data": {
      "image/png": "[encoded data removed]",
      "text/plain": [
       "<Figure size 432x288 with 1 Axes>"
      ]
     },
     "metadata": {
      "needs_background": "light"
     },
     "output_type": "display_data"
    }
   ],
   "source": [
    "#8.10\n",
    "%matplotlib inline\n",
    "import numpy as np\n",
    "import matplotlib.pyplot as plt\n",
    "\n",
    "index = np.arange(4)\n",
    "plt.figure()\n",
    "barWidth = 0.35\n",
    "a = [1,  2,  3,  4]\n",
    "b = [5,  4,  2,  1]\n",
    "plt.bar(index,a,barWidth,color='r',label='a')\n",
    "plt.bar(index+barWidth,b,barWidth,color='b',label='b')\n",
    "plt.xlabel('Index')\n",
    "plt.ylabel('Million baht')\n",
    "plt.xticks(index + (barWidth/2), index)\n",
    "plt.title('a and b data')\n",
    "plt.legend(loc='upper right')\n",
    "plt .show()"
   ]
  },
  {
   "cell_type": "code",
   "execution_count": null,
   "id": "8b53d490",
   "metadata": {},
   "outputs": [],
   "source": []
  }
 ],
 "metadata": {
  "kernelspec": {
   "display_name": "Python 3 (ipykernel)",
   "language": "python",
   "name": "python3"
  },
  "language_info": {
   "codemirror_mode": {
    "name": "ipython",
    "version": 3
   },
   "file_extension": ".py",
   "mimetype": "text/x-python",
   "name": "python",
   "nbconvert_exporter": "python",
   "pygments_lexer": "ipython3",
   "version": "3.8.10"
  }
 },
 "nbformat": 4,
 "nbformat_minor": 5
}
