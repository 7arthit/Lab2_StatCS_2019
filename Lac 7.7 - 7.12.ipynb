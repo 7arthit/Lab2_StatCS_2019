{
 "cells": [
  {
   "cell_type": "code",
   "execution_count": 14,
   "id": "f788d539",
   "metadata": {},
   "outputs": [
    {
     "name": "stdout",
     "output_type": "stream",
     "text": [
      "t = -2.6457513110645907\n",
      "[0.01]\n",
      "cv = [-2.47265991]\n",
      "Reject H0\n"
     ]
    }
   ],
   "source": [
    "import scipy.stats as st\n",
    "import math\n",
    "\n",
    "#7.7\n",
    "mu,s,xbar,n = 45,20,35,28\n",
    "alpha = 0.01\n",
    "df = n-1\n",
    "\n",
    "t = (xbar - mu)/(s/math.sqrt(n))\n",
    "print('t =',t)\n",
    "p = [alpha]\n",
    "print(p)\n",
    "cv = st.t.ppf(p,df)\n",
    "print('cv =',cv)\n",
    "\n",
    "if t >= cv:\n",
    "    print('Accept H0')\n",
    "else:\n",
    "    print('Reject H0')"
   ]
  },
  {
   "cell_type": "code",
   "execution_count": 13,
   "id": "95f3d3f3",
   "metadata": {},
   "outputs": [
    {
     "name": "stdout",
     "output_type": "stream",
     "text": [
      "z = -4.879500364742665\n",
      "cv = [-1.95996398  1.95996398]\n",
      "Reject H0\n"
     ]
    }
   ],
   "source": [
    "#7.8\n",
    "p,x,n = 0.7,300,500\n",
    "p_hat = x/n\n",
    "alpha = 0.05\n",
    "\n",
    "z = (p_hat - p)/math.sqrt((p*(1-p))/n)\n",
    "print('z =',z)\n",
    "cv = st.norm.ppf([alpha/2,1-alpha/2])\n",
    "print('cv =',cv)\n",
    "\n",
    "if z >=cv[0] and z<=cv[1]:\n",
    "    print('Accept H0')\n",
    "else:\n",
    "    print('Reject H0')"
   ]
  },
  {
   "cell_type": "code",
   "execution_count": 12,
   "id": "3abf17cf",
   "metadata": {},
   "outputs": [
    {
     "name": "stdout",
     "output_type": "stream",
     "text": [
      "z = 1.0482848367219193\n",
      "cv = [2.5758293]\n",
      "Accept H0\n"
     ]
    }
   ],
   "source": [
    "#7.9\n",
    "p,x,n = 0.35,40,100\n",
    "p_hat = x/n\n",
    "alpha = 0.01\n",
    "\n",
    "z = (p_hat - p)/math.sqrt((p*(1-p))/n)\n",
    "print('z =',z)\n",
    "cv = st.norm.ppf([1-alpha/2])\n",
    "print('cv =',cv)\n",
    "\n",
    "if z<=cv:\n",
    "    print('Accept H0')\n",
    "else:\n",
    "    print('Reject H0')"
   ]
  },
  {
   "cell_type": "code",
   "execution_count": 11,
   "id": "6b9ee8cf",
   "metadata": {},
   "outputs": [
    {
     "name": "stdout",
     "output_type": "stream",
     "text": [
      "chi2 = 29.07\n",
      "cv = [30.14352721]\n",
      "Accept H0\n"
     ]
    }
   ],
   "source": [
    "#7.10\n",
    "var,s2,n = 0.01,0.0153,20\n",
    "alpha = 0.05\n",
    "df = n-1\n",
    "\n",
    "chi2 = (df*s2)/var\n",
    "print('chi2 =',chi2)\n",
    "cv = st.chi2.ppf([1-alpha],df)\n",
    "print('cv =',cv)\n",
    "\n",
    "if chi2 <= cv:\n",
    "    print('Accept H0')\n",
    "else:\n",
    "    print('Reject H0')"
   ]
  },
  {
   "cell_type": "code",
   "execution_count": 10,
   "id": "ebd82310",
   "metadata": {},
   "outputs": [
    {
     "name": "stdout",
     "output_type": "stream",
     "text": [
      "chi2 = 48.0\n",
      "cv = [42.97982014]\n",
      "Reject H0\n"
     ]
    }
   ],
   "source": [
    "#7.11\n",
    "var,s2,n = 0.0001,0.0002,25\n",
    "alpha = 0.01\n",
    "df = n-1\n",
    "\n",
    "chi2 = (df*s2)/var\n",
    "print('chi2 =',chi2)\n",
    "cv = st.chi2.ppf([1-alpha],df)\n",
    "print('cv =',cv)\n",
    "\n",
    "if chi2 <= cv:\n",
    "    print('Accept H0')\n",
    "else:\n",
    "    print('Reject H0')"
   ]
  },
  {
   "cell_type": "code",
   "execution_count": 15,
   "id": "9d47d199",
   "metadata": {},
   "outputs": [
    {
     "name": "stdout",
     "output_type": "stream",
     "text": [
      "z = 2.609312292213769\n",
      "cv = [2.32634787]\n",
      "Reject H0\n"
     ]
    }
   ],
   "source": [
    "#7.12 ก\n",
    "d,x1,x2,s2_1,s2_2,n1,n2 = 0,6150,6070,180**2,200**2,60,100\n",
    "alpha = 0.01\n",
    "\n",
    "z =  ((x1-x2) - d)/math.sqrt((s2_1/n1)+(s2_2/n2))\n",
    "print('z =',z)\n",
    "cv = st.norm.ppf([1-alpha])\n",
    "print('cv =',cv)\n",
    "\n",
    "if z<=cv:\n",
    "    print('Accept H0')\n",
    "else:\n",
    "    print('Reject H0')"
   ]
  },
  {
   "cell_type": "code",
   "execution_count": 1,
   "id": "c2914d9d",
   "metadata": {},
   "outputs": [
    {
     "ename": "NameError",
     "evalue": "name 'math' is not defined",
     "output_type": "error",
     "traceback": [
      "\u001b[1;31m---------------------------------------------------------------------------\u001b[0m",
      "\u001b[1;31mNameError\u001b[0m                                 Traceback (most recent call last)",
      "\u001b[1;32m~\\AppData\\Local\\Temp/ipykernel_64140/1852496903.py\u001b[0m in \u001b[0;36m<module>\u001b[1;34m\u001b[0m\n\u001b[0;32m      3\u001b[0m \u001b[0malpha\u001b[0m \u001b[1;33m=\u001b[0m \u001b[1;36m0.01\u001b[0m\u001b[1;33m\u001b[0m\u001b[1;33m\u001b[0m\u001b[0m\n\u001b[0;32m      4\u001b[0m \u001b[1;33m\u001b[0m\u001b[0m\n\u001b[1;32m----> 5\u001b[1;33m \u001b[0mz\u001b[0m \u001b[1;33m=\u001b[0m  \u001b[1;33m(\u001b[0m\u001b[1;33m(\u001b[0m\u001b[0mx1\u001b[0m\u001b[1;33m-\u001b[0m\u001b[0mx2\u001b[0m\u001b[1;33m)\u001b[0m \u001b[1;33m-\u001b[0m \u001b[0md\u001b[0m\u001b[1;33m)\u001b[0m\u001b[1;33m/\u001b[0m\u001b[0mmath\u001b[0m\u001b[1;33m.\u001b[0m\u001b[0msqrt\u001b[0m\u001b[1;33m(\u001b[0m\u001b[1;33m(\u001b[0m\u001b[0ms2_1\u001b[0m\u001b[1;33m/\u001b[0m\u001b[0mn1\u001b[0m\u001b[1;33m)\u001b[0m\u001b[1;33m+\u001b[0m\u001b[1;33m(\u001b[0m\u001b[0ms2_2\u001b[0m\u001b[1;33m/\u001b[0m\u001b[0mn2\u001b[0m\u001b[1;33m)\u001b[0m\u001b[1;33m)\u001b[0m\u001b[1;33m\u001b[0m\u001b[1;33m\u001b[0m\u001b[0m\n\u001b[0m\u001b[0;32m      6\u001b[0m \u001b[0mprint\u001b[0m\u001b[1;33m(\u001b[0m\u001b[1;34m'z ='\u001b[0m\u001b[1;33m,\u001b[0m\u001b[0mz\u001b[0m\u001b[1;33m)\u001b[0m\u001b[1;33m\u001b[0m\u001b[1;33m\u001b[0m\u001b[0m\n\u001b[0;32m      7\u001b[0m \u001b[0mcv\u001b[0m \u001b[1;33m=\u001b[0m \u001b[0mst\u001b[0m\u001b[1;33m.\u001b[0m\u001b[0mnorm\u001b[0m\u001b[1;33m.\u001b[0m\u001b[0mppf\u001b[0m\u001b[1;33m(\u001b[0m\u001b[1;33m[\u001b[0m\u001b[1;36m1\u001b[0m\u001b[1;33m-\u001b[0m\u001b[0malpha\u001b[0m\u001b[1;33m]\u001b[0m\u001b[1;33m)\u001b[0m\u001b[1;33m\u001b[0m\u001b[1;33m\u001b[0m\u001b[0m\n",
      "\u001b[1;31mNameError\u001b[0m: name 'math' is not defined"
     ]
    }
   ],
   "source": [
    "#7.12 ข\n",
    "d,x1,x2,s2_1,s2_2,n1,n2 = 0,6150,6070,180**2,200**2,9,11\n",
    "alpha = 0.01\n",
    "\n",
    "z =  ((x1-x2) - d)/math.sqrt((s2_1/n1)+(s2_2/n2))\n",
    "print('z =',z)\n",
    "cv = st.norm.ppf([1-alpha])\n",
    "print('cv =',cv)\n",
    "\n",
    "if z<=cv:\n",
    "    print('Accept H0')\n",
    "else:\n",
    "    print('Reject H0')"
   ]
  },
  {
   "cell_type": "code",
   "execution_count": null,
   "id": "bd92c270",
   "metadata": {},
   "outputs": [],
   "source": []
  }
 ],
 "metadata": {
  "kernelspec": {
   "display_name": "Python 3 (ipykernel)",
   "language": "python",
   "name": "python3"
  },
  "language_info": {
   "codemirror_mode": {
    "name": "ipython",
    "version": 3
   },
   "file_extension": ".py",
   "mimetype": "text/x-python",
   "name": "python",
   "nbconvert_exporter": "python",
   "pygments_lexer": "ipython3",
   "version": "3.8.10"
  }
 },
 "nbformat": 4,
 "nbformat_minor": 5
}
