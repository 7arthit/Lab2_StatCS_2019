{
 "cells": [
  {
   "cell_type": "code",
   "execution_count": 12,
   "id": "cc604b7b",
   "metadata": {},
   "outputs": [
    {
     "name": "stdout",
     "output_type": "stream",
     "text": [
      "pdfw [0.1 0.1 0.1 0.1 0.1 0.1 0.1 0.1 0.1 0.1 0.1]\n",
      " cdfa [0.  0.1 0.2 0.3 0.4 0.5 0.6 0.7 0.8 0.9 1. ]\n"
     ]
    }
   ],
   "source": [
    "# 9.4 การแจกแจงยูนิฟอร์ม (Uniform distribution)\n",
    "# Ex 9-4\n",
    "import scipy.stats as st\n",
    "import numpy as np\n",
    "import matplotlib.pyplot as plt\n",
    "a = 0\n",
    "b = 10\n",
    "x = np.arange(a,b+1)\n",
    "\n",
    "pdf = st.uniform.pdf(x,a,b)\n",
    "print('pdfw',pdf)\n",
    "\n",
    "cdf = st.uniform.cdf(x,a,b)\n",
    "print(' cdfa',cdf)"
   ]
  },
  {
   "cell_type": "code",
   "execution_count": 16,
   "id": "71100462",
   "metadata": {},
   "outputs": [
    {
     "data": {
      "image/png": "[encoded data removed]",
      "text/plain": [
       "<Figure size 576x216 with 2 Axes>"
      ]
     },
     "metadata": {
      "needs_background": "light"
     },
     "output_type": "display_data"
    }
   ],
   "source": [
    "fig = plt.figure(figsize = (8,3))\n",
    "fig.suptitle('Uniform Distribution',size=12)\n",
    "plt.subplot(121)\n",
    "plt.plot(x,pdf,'b')\n",
    "plt.title('pdf',size = 10)\n",
    "plt.xlabel('X')\n",
    "plt.ylabel('f(x)')\n",
    "plt.subplot(122)\n",
    "plt.plot(x,cdf,'r')\n",
    "plt.title('cdf',size = 10)\n",
    "plt.xlabel('X')\n",
    "plt.ylabel('F(X)')\n",
    "plt.show()"
   ]
  },
  {
   "cell_type": "code",
   "execution_count": 14,
   "id": "16523462",
   "metadata": {},
   "outputs": [
    {
     "name": "stdout",
     "output_type": "stream",
     "text": [
      "mean=5.0000 and variance=8.3333\n"
     ]
    }
   ],
   "source": [
    "mean,var = st.uniform.stats(a,b-a)\n",
    "print('mean=%.4f and variance=%.4f'%(mean, var))"
   ]
  },
  {
   "cell_type": "code",
   "execution_count": null,
   "id": "4071e472",
   "metadata": {},
   "outputs": [],
   "source": []
  }
 ],
 "metadata": {
  "kernelspec": {
   "display_name": "Python 3 (ipykernel)",
   "language": "python",
   "name": "python3"
  },
  "language_info": {
   "codemirror_mode": {
    "name": "ipython",
    "version": 3
   },
   "file_extension": ".py",
   "mimetype": "text/x-python",
   "name": "python",
   "nbconvert_exporter": "python",
   "pygments_lexer": "ipython3",
   "version": "3.8.10"
  }
 },
 "nbformat": 4,
 "nbformat_minor": 5
}
