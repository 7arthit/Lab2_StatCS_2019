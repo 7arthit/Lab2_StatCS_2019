{
 "cells": [
  {
   "cell_type": "code",
   "execution_count": 4,
   "id": "7c079c56",
   "metadata": {},
   "outputs": [
    {
     "name": "stdout",
     "output_type": "stream",
     "text": [
      "z = -0.6235382907247958\n",
      "[0.025, 0.975]\n",
      "cv= [-1.95996398  1.95996398]\n",
      "Accept H0\n"
     ]
    }
   ],
   "source": [
    "# 63011212019 นายอาทิตย์ ทวีบท\n",
    "#H0 : mu = 42 ,H1 : mu <> 42\n",
    "import scipy.stats as st\n",
    "import math\n",
    "mu = 42 #เวลาสำรองไฟเฉลี่ย 42 นาที\n",
    "sigma = 25 #ความแปรปรวนเท่ากับ 25\n",
    "xbar = 39 #วัดเวลาเฉลี่ยได้ 39 นาที\n",
    "n = 27 #สุ่มมา 27 เครื่อง\n",
    "alpha = 0.05 #ระดับนัยสำคัญ 0.05\n",
    "\n",
    "z = (xbar-mu)/(sigma/math.sqrt(n)) #ทฤษฏีที่ 1 แจกแจงปกติ ทราบค่าความแปรปรวน\n",
    "print('z =',z)\n",
    "\n",
    "p = [alpha/2,1-alpha/2] #บริเวณวิกฤต\n",
    "print(p)\n",
    "\n",
    "cv = st.norm.ppf(p)#ค่าวิกฤต\n",
    "print('cv=',cv)\n",
    "\n",
    "if z >= cv[0] and z<= cv[1]:\n",
    "    print( 'Accept H0') #บริเวรยอมรับ\n",
    "else:\n",
    "    print('Reject H0') #บริเวณปฏิเศษ"
   ]
  },
  {
   "cell_type": "code",
   "execution_count": null,
   "id": "3a03c689",
   "metadata": {},
   "outputs": [],
   "source": []
  }
 ],
 "metadata": {
  "kernelspec": {
   "display_name": "Python 3 (ipykernel)",
   "language": "python",
   "name": "python3"
  },
  "language_info": {
   "codemirror_mode": {
    "name": "ipython",
    "version": 3
   },
   "file_extension": ".py",
   "mimetype": "text/x-python",
   "name": "python",
   "nbconvert_exporter": "python",
   "pygments_lexer": "ipython3",
   "version": "3.8.10"
  }
 },
 "nbformat": 4,
 "nbformat_minor": 5
}
