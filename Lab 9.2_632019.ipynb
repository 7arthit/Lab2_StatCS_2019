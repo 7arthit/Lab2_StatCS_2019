{
 "cells": [
  {
   "cell_type": "code",
   "execution_count": 20,
   "id": "b989635b",
   "metadata": {},
   "outputs": [
    {
     "name": "stdout",
     "output_type": "stream",
     "text": [
      "P(X=3)=0.1358\n"
     ]
    }
   ],
   "source": [
    "# 9.2 การแจกแจงทวินาม (Binomial distribution)\n",
    "# Ex 9-1\n",
    "x = 3\n",
    "n = 25\n",
    "p = 0.2\n",
    "prob = st.binom.pmf(x,n,p)\n",
    "print('P(X=%d)=%.4f'%(x,prob))"
   ]
  },
  {
   "cell_type": "code",
   "execution_count": 19,
   "id": "fedc736f",
   "metadata": {},
   "outputs": [
    {
     "name": "stdout",
     "output_type": "stream",
     "text": [
      "P(X=3)=0.2340\n"
     ]
    }
   ],
   "source": [
    "prob = st.binom.cdf(x,n,p)\n",
    "print('P(X=%d)=%.4f'%(x,prob))"
   ]
  },
  {
   "cell_type": "code",
   "execution_count": 21,
   "id": "c914bccf",
   "metadata": {},
   "outputs": [
    {
     "name": "stdout",
     "output_type": "stream",
     "text": [
      "mean=5.0000 and variance=4.0000\n"
     ]
    }
   ],
   "source": [
    "mean, var = st.binom.stats(n,p)\n",
    "print('mean=%.4f and variance=%.4f'%(mean, var))"
   ]
  },
  {
   "cell_type": "code",
   "execution_count": 9,
   "id": "895fe530",
   "metadata": {},
   "outputs": [
    {
     "name": "stdout",
     "output_type": "stream",
     "text": [
      "pmf1= [0.117649 0.302526 0.324135 0.18522  0.059535 0.010206 0.000729]\n",
      "pmf2= [0.000729 0.010206 0.059535 0.18522  0.324135 0.302526 0.117649]\n"
     ]
    }
   ],
   "source": [
    "# Ex9-2  \n",
    "import scipy.stats as st\n",
    "import numpy as np\n",
    "n = 6\n",
    "p = 0.3\n",
    "x = np.arange(0,n+1)\n",
    "\n",
    "pmf1=st.binom.pmf(x,n,p)\n",
    "print('pmf1=',pmf1)\n",
    "\n",
    "pmf2=st.binom.pmf(x,n,(1-p))\n",
    "print('pmf2=',pmf2)"
   ]
  },
  {
   "cell_type": "code",
   "execution_count": 10,
   "id": "e2383286",
   "metadata": {},
   "outputs": [
    {
     "data": {
      "image/png": "[encoded data removed]",
      "text/plain": [
       "<Figure size 684x216 with 2 Axes>"
      ]
     },
     "metadata": {
      "needs_background": "light"
     },
     "output_type": "display_data"
    }
   ],
   "source": [
    "import matplotlib.pyplot as plt\n",
    "fig=plt.figure(figsize=(9.5,3))\n",
    "fig.suptitle('Binomial Distribution',size=12)\n",
    "plt.subplot(121)\n",
    "plt.bar(x,pmf1,1,color='b',edgecolor='k')\n",
    "plt.title('n=%d,p=%.2f'%(n,p),size=10)\n",
    "plt.xlabel('X')\n",
    "plt.ylabel('f(X) ')\n",
    "plt.subplot(122)\n",
    "plt.bar(x,pmf2,1,color='r',edgecolor='k')\n",
    "plt.title('n=%d,1-p=%.2f'%(n,(1-p)),size=10)\n",
    "plt.xlabel('X')\n",
    "plt.ylabel('f(X)')\n",
    "plt.show()"
   ]
  },
  {
   "cell_type": "code",
   "execution_count": null,
   "id": "8ffd8f75",
   "metadata": {},
   "outputs": [],
   "source": []
  }
 ],
 "metadata": {
  "kernelspec": {
   "display_name": "Python 3 (ipykernel)",
   "language": "python",
   "name": "python3"
  },
  "language_info": {
   "codemirror_mode": {
    "name": "ipython",
    "version": 3
   },
   "file_extension": ".py",
   "mimetype": "text/x-python",
   "name": "python",
   "nbconvert_exporter": "python",
   "pygments_lexer": "ipython3",
   "version": "3.8.10"
  }
 },
 "nbformat": 4,
 "nbformat_minor": 5
}
