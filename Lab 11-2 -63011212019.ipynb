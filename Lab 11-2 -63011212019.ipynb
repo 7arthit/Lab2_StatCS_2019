{
 "cells": [
  {
   "cell_type": "code",
   "execution_count": 2,
   "id": "fd2cef22",
   "metadata": {},
   "outputs": [
    {
     "name": "stdout",
     "output_type": "stream",
     "text": [
      "t = 0.9404371911790622\n",
      "df = 17.797202404359304\n",
      "cv = [1.73513472]\n",
      "Accept H0\n"
     ]
    }
   ],
   "source": [
    "#7.12 ข\n",
    "import scipy.stats as st\n",
    "import math\n",
    "\n",
    "d, x1, x2, s2_1, s2_2, n1, n2 = 0, 6150, 6070, 180**2, 200**2, 9, 11\n",
    "alpha = 0.05\n",
    "\n",
    "t = ((x1 - x2) - d) / math.sqrt((s2_1 / n1) + (s2_2 / n2))\n",
    "print('t =', t)\n",
    "\n",
    "v = (((s2_1 / n1) + (s2_2 / n2)) **2) / (((s2_1 / n1)**2) / (n1 - 1) + (s2_2 / n2) ** 2 / (n2 - 1)) \n",
    "print('df =', v)\n",
    "\n",
    "cv = st.t.ppf([1 - alpha], v)\n",
    "print('cv =', cv)\n",
    "\n",
    "if t <= cv:\n",
    "    print('Accept H0')\n",
    "else:\n",
    "    print('Reject H0')"
   ]
  },
  {
   "cell_type": "code",
   "execution_count": 10,
   "id": "e5c36c00",
   "metadata": {},
   "outputs": [
    {
     "name": "stdout",
     "output_type": "stream",
     "text": [
      "z = -1.0000000000000002\n",
      "cv = [-2.5758293  2.5758293]\n",
      "Accept H0\n"
     ]
    }
   ],
   "source": [
    "#11\n",
    "import scipy.stats as st\n",
    "import math\n",
    "\n",
    "p, x, n = 0.2, 16, 100\n",
    "p_hat = x / n\n",
    "alpha = 0.01\n",
    "\n",
    "z = (p_hat - p) / math.sqrt((p * (1 - p)) / n)\n",
    "print('z =', z)\n",
    "\n",
    "cv = st.norm.ppf([alpha / 2, 1 - alpha / 2])\n",
    "print('cv =', cv)\n",
    "\n",
    "if cv[0] <= z <= cv[1]:\n",
    "    print('Accept H0')\n",
    "else:\n",
    "    print('Reject H0')"
   ]
  },
  {
   "cell_type": "code",
   "execution_count": 15,
   "id": "ed0727cd",
   "metadata": {},
   "outputs": [
    {
     "name": "stdout",
     "output_type": "stream",
     "text": [
      "chi2 = 14.281666666666666\n",
      "cv = [30.14352721]\n",
      "Reject H0\n"
     ]
    }
   ],
   "source": [
    "#17\n",
    "import scipy.stats as st\n",
    "import math\n",
    "\n",
    "var, s2, n = 6, 4.51, 20\n",
    "alpha = 0.05\n",
    "df = n - 1\n",
    "\n",
    "chi2 = (df * s2) / var\n",
    "print('chi2 =', chi2)\n",
    "\n",
    "cv = st.chi2.ppf([1 - alpha], df)\n",
    "print('cv =', cv)\n",
    "\n",
    "if chi2 >= cv:\n",
    "    print('Accept H0')\n",
    "else:\n",
    "    print('Reject H0')"
   ]
  },
  {
   "cell_type": "code",
   "execution_count": null,
   "id": "0f05a747",
   "metadata": {},
   "outputs": [],
   "source": []
  }
 ],
 "metadata": {
  "kernelspec": {
   "display_name": "Python 3 (ipykernel)",
   "language": "python",
   "name": "python3"
  },
  "language_info": {
   "codemirror_mode": {
    "name": "ipython",
    "version": 3
   },
   "file_extension": ".py",
   "mimetype": "text/x-python",
   "name": "python",
   "nbconvert_exporter": "python",
   "pygments_lexer": "ipython3",
   "version": "3.8.10"
  }
 },
 "nbformat": 4,
 "nbformat_minor": 5
}
