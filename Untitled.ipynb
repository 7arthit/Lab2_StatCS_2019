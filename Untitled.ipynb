{
 "cells": [
  {
   "cell_type": "code",
   "execution_count": 6,
   "id": "41556a05",
   "metadata": {},
   "outputs": [
    {
     "name": "stdout",
     "output_type": "stream",
     "text": [
      "จำนวนวิธี =  10000\n"
     ]
    }
   ],
   "source": [
    "import itertools as it \n",
    "#Ex2.9\n",
    "A=list(range(10))\n",
    "nA=list(it.product(A,repeat=4))\n",
    "print('จำนวนวิธี = ',len(nA))"
   ]
  },
  {
   "cell_type": "code",
   "execution_count": null,
   "id": "77b43760",
   "metadata": {},
   "outputs": [],
   "source": []
  }
 ],
 "metadata": {
  "kernelspec": {
   "display_name": "Python 3 (ipykernel)",
   "language": "python",
   "name": "python3"
  },
  "language_info": {
   "codemirror_mode": {
    "name": "ipython",
    "version": 3
   },
   "file_extension": ".py",
   "mimetype": "text/x-python",
   "name": "python",
   "nbconvert_exporter": "python",
   "pygments_lexer": "ipython3",
   "version": "3.8.10"
  }
 },
 "nbformat": 4,
 "nbformat_minor": 5
}
