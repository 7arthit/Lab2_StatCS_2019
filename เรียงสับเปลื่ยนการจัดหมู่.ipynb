{
 "cells": [
  {
   "cell_type": "code",
   "execution_count": null,
   "id": "57f470e5",
   "metadata": {},
   "outputs": [],
   "source": [
    "import itertools as it \n",
    "A = [0,1]  #จำนวนเหตุการณ์\n",
    "listPnr = list(it.product(A,repeat=3)) #repeat คือจำนวนครั้งของการเกิดเหตุการณ์\n",
    "print('เซตของเหตุการณ์\\n',listPnr)\n",
    "print('จำนวนวิธี=',len(listPnr),'วิธี')"
   ]
  },
  {
   "cell_type": "code",
   "execution_count": null,
   "id": "df932cc6",
   "metadata": {},
   "outputs": [],
   "source": [
    "A = ['A','B','C']\n",
    "B = list(range(10))#0-9\n",
    "print(A)\n",
    "print(B) \n",
    "listPnr1 = list(it.product(A,repeat=2))\n",
    "print(listPnr1) #จำนวนครั้งของการเกิดเหตุการณ์ ['A','B','C']\n",
    "listPnr2 = list(it.product(B,repeat=2))\n",
    "print(listPnr2)# จำนวนครั้งของการเกิดเหตุการณ์ range(?)\n",
    "print('จำนวนวิธี A = ',len(listPnr1),'วิธี')\n",
    "print('จำนวนวิธี B = ',len(listPnr2),'วิธี')\n",
    "print('จำนวนวิธี A&B = ',len(listPnr1)*len(listPnr2),'วิธี')"
   ]
  },
  {
   "cell_type": "code",
   "execution_count": 14,
   "id": "7318e4ee",
   "metadata": {},
   "outputs": [
    {
     "name": "stdout",
     "output_type": "stream",
     "text": [
      "Ex1.25\n",
      "จำนวนวิธี n1 = 26 วิธี\n",
      "จำนวนวิธี n2 = n21 x n22 = 26 x 10 = 260 วิธี\n",
      "จำนวนวิธี n = n1 + n2 = 26 + 260 = 286 วิธี\n"
     ]
    }
   ],
   "source": [
    "#การรวมกฏการคูณและการบวก\n",
    "#Ex1.25 ตองการหาจำนวนวิธีกำหนดตัวแปรที่ไม่ซ้ำกันทั้งหมดในวิชา programming \n",
    "#โดยกําหนดใหสร้างตัวแปรไดโดยใช ้ อักษรภาษาอังกฤษเพียง 1 ตัว และตัวแปรทีสร้างได ้ โดยใช้อ้กษรภาษาอังกฤษ 1 ตัวตามด้วยตัวเลข 1 ตัว\n",
    "#วิธีทำ ให้  n1 = ตัวแปรกำหนดไดโดยใช้อ้กษรเพียง 1 ตัว = 26 วิธี\n",
    "#n2 = ตัวแปรที่กําหนดได้โดยใช้อักษร 1 ตัว (𝑛21 = 26)\n",
    "#ตามด้วยตัวเลข 1 ตัว (𝑛22 = 10) = 𝑛2 × 𝑛22 = 26 × 10\n",
    "# จำนวนวิธีกำหนดตัวแปรที่ไม่ซ้ำกัน = 𝑛1 + 𝑛2 = 𝑛1 + ( 𝑛21 × 𝑛22) \n",
    "                                            #= 26 + (26*10) = 286 วิธี\n",
    "\n",
    "A = [chr(i) for i in range(65,65+26)] # ตัวอักษร A - Z \n",
    "B = list(range(0,10)) #ตัวเลข 0 - 10\n",
    "\n",
    "n1 = len(list(it.product(A,repeat=1))) #= 26\n",
    "n21 = n1 #26\n",
    "n22 = len(list(it.product(B,repeat=1)))#= 10\n",
    "n2 = n21 * n22#= 26 × 10 = 260\n",
    "print ('Ex1.25')\n",
    "print ('จำนวนวิธี n1 =',n1,'วิธี')\n",
    "print ('จำนวนวิธี n2 = n21 x n22 = %d x %d = %d วิธี'%(n21,n22,n2))\n",
    "print ('จำนวนวิธี n = n1 + n2 = %d + %d = %d วิธี'%(n1,n2,n1+n2)) #= 26 + 260 = 286"
   ]
  },
  {
   "cell_type": "code",
   "execution_count": null,
   "id": "1ded70ef",
   "metadata": {},
   "outputs": [],
   "source": [
    "#วิธีเรียงสับเปลื่ยน( Permutation )\n",
    "\n",
    "#Ex1.30 จงหาจำนวนวิธีที่จะจับสลากรางวัลทหนึ่งรางวัลที่สอง และรางวัลสามจากคนที่ชิงรางวัล 100 คนโดยคนทั้ง 1000 คนจะต้องไม้ซ้ำกัน\n",
    "#วิธีทำจำนวนวธิในการจับสลาก โดยรางวัลทหนึ่งเลือกจากคน 100 คน รางวัลที่สองเลือกจาก\n",
    "#คน 99 คน ส่วนรางวัลที่สามเลือกจากคน 98 ดังนั้ 𝑛  = 100, 𝑟  = 3 นั้นก็คือ\n",
    "\n",
    "n = 100\n",
    "A = [str(x)for x in range(1,n+1)]#1 - 100\n",
    "r = 3\n",
    "listPnr = list(it.permutations(A,r)) #100 * 99 *98 = 970200\n",
    "print('จำนวนวิธีตัวอย่าง 1.30 =',len(listPnr),'วิธี')"
   ]
  },
  {
   "cell_type": "code",
   "execution_count": 16,
   "id": "33938aad",
   "metadata": {},
   "outputs": [
    {
     "name": "stdout",
     "output_type": "stream",
     "text": [
      "จำนวนวิธีตัวอย่าง 1.31 = 6 วิธี\n"
     ]
    }
   ],
   "source": [
    "#Ex1.31 จัดคน 3 คน ใหยืนเรียงแถวได้กี่วิธี \n",
    "#ใชการเรียงสับเปลื่ยน 𝑛 = 3, 𝑟 = 3\n",
    "n = 3\n",
    "A = [str(x)for x in range(1,n+1)] # 1- 3\n",
    "r = 3\n",
    "listPnr=list(it.permutations(A,r)) # 3×2×1 = 6\n",
    "print('จำนวนวิธีตัวอย่าง 1.31 =',len(listPnr),'วิธี')"
   ]
  },
  {
   "cell_type": "code",
   "execution_count": 17,
   "id": "addccf2c",
   "metadata": {},
   "outputs": [
    {
     "name": "stdout",
     "output_type": "stream",
     "text": [
      "จำนวนวิธีตัวอย่าง 1.32 = 60 วิธี\n"
     ]
    }
   ],
   "source": [
    "#Ex1.32 มีลูกโป่ง 5 ลูก ลูกละสีไม่มี ซ้ำกันจากัน จะมวีธิในการส่สัญญาณโดยใช้ลูกโป่ง 3 สีมาวางเรียงกันได้กี่วิธี\n",
    "#ใชการเรียงสับเปลื่ยน 𝑛 = 5 สี, 𝑟 = 3 สี\n",
    "n = 5\n",
    "A = [str(x)for x in range(1,n+1)]# 1- 5\n",
    "r = 3\n",
    "listPnr=list(it.permutations(A,r)) #5×4×3= 60\n",
    "print('จำนวนวิธีตัวอย่าง 1.32 =',len(listPnr),'วิธี')"
   ]
  },
  {
   "cell_type": "code",
   "execution_count": 18,
   "id": "bbdd16d2",
   "metadata": {},
   "outputs": [
    {
     "name": "stdout",
     "output_type": "stream",
     "text": [
      "จำนวนวิธีตัวอย่าง 1.32 = 336 วิธี\n"
     ]
    }
   ],
   "source": [
    "#Ex1.33 ในการแข่งขันวิ่ง มีนักวิ่ง 8 คน เข้าเส้นชัยที่ 1 จะได้รับเหรียญทอง ที่ 2 จะได้รับเหรียญเงิน และที่ 3 จะได้รับเหรียญบลอนซ์ มีจำนวนวิธีกี่วิธีในการให้เหรียญรางวัล\n",
    "#𝑛 = 8 คน, 𝑟 = 3 เหรียญ\n",
    "n = 8\n",
    "A = [chr(i)for i in range(1,n+1)] \n",
    "r = 3\n",
    "listPnr = list(it.permutations(A,r))#8×7×6= 336\n",
    "print('จำนวนวิธีตัวอย่าง 1.32 =',len(listPnr),'วิธี')"
   ]
  },
  {
   "cell_type": "code",
   "execution_count": 19,
   "id": "4890460e",
   "metadata": {},
   "outputs": [
    {
     "name": "stdout",
     "output_type": "stream",
     "text": [
      "จำนวนวิธีตัวอย่าง 1.36 = 8 วิธี\n"
     ]
    }
   ],
   "source": [
    "#การจัดหมู่(Combination)\n",
    "\n",
    "#Ex1.36  จงหาจำนวนวิธีการจัดหมู่ของบิตสตริง ที่ความยาว n เซต ที่มีเลข 1 อยู่ r ตัว\n",
    "A = [0,1]\n",
    "r = 7\n",
    "listCnr = list(it.combinations_with_replacement(A,r)) #เป็นการหา combination แบบทําซ้ำ r ครัง\n",
    "print('จำนวนวิธีตัวอย่าง 1.36 =',len(listCnr),'วิธี')"
   ]
  },
  {
   "cell_type": "code",
   "execution_count": 21,
   "id": "5902c545",
   "metadata": {},
   "outputs": [
    {
     "name": "stdout",
     "output_type": "stream",
     "text": [
      "จำนวนวิธีตัวอย่าง 1.37 =  6 วิธี\n",
      "[('a', 'b'), ('a', 'c'), ('a', 'd'), ('b', 'c'), ('b', 'd'), ('c', 'd')]\n"
     ]
    }
   ],
   "source": [
    "#Ex1.37  สมมุติเซต{a,b,c,d}นำมาจัดกลุ่ม กลุ่มละ 2 ตัว จงหาวิธีในการจัดหมู่\n",
    "#วิธีทำ สมาชิกของเซตมี 4 ตัว = n เลือกมา 2 ตัว = r \n",
    "A = 'abcd'\n",
    "r = 2\n",
    "listCnr = list(it.combinations(A,r))\n",
    "print('จำนวนวิธีตัวอย่าง 1.37 = ',len(listCnr),'วิธี')\n",
    "print(listCnr)"
   ]
  },
  {
   "cell_type": "code",
   "execution_count": 20,
   "id": "79ed700c",
   "metadata": {},
   "outputs": [
    {
     "name": "stdout",
     "output_type": "stream",
     "text": [
      "จำนวนวิธีตัวอย่าง 1.38 = 252 วิธี\n"
     ]
    }
   ],
   "source": [
    "#Ex1.38 มีกี่วิธีจะเลือกนักกีฬา 5 คน จากจำนวนนักเทนนิส 10 คน เพื่อไปแข่งขันกับโรงเรียนอื่น\n",
    "#n = 10 , r = 5\n",
    "A = list(range(1,11))#[1, 2, 3, 4, 5, 6, 7, 8, 9, 10]\n",
    "r = 5\n",
    "listCnr = list(it.combinations(A,r)) \n",
    "print('จำนวนวิธีตัวอย่าง 1.38 =',len(listCnr),'วิธี')"
   ]
  },
  {
   "cell_type": "code",
   "execution_count": 27,
   "id": "39b4b5b1",
   "metadata": {},
   "outputs": [
    {
     "name": "stdout",
     "output_type": "stream",
     "text": [
      "จำนวนวิธีตัวอย่าง 1.39 = 593775 วิธี\n"
     ]
    }
   ],
   "source": [
    "#Ex1.39  มีคนทั้งหมด 30 คน ได้ข้ารับการอบรมเป็นนักบินอวกาศ เพื่อไปดาวอังคาร มีกี่วิธีในการเลือกลูกเรือ 6 คนเพื่อเดินทางไปดาวอังคาร\n",
    "#n = 30 , r = 6\n",
    "A = list(range(1,31))#[1-30]\n",
    "r = 6\n",
    "listCnr = list(it.combinations(A,r))\n",
    "print('จำนวนวิธีตัวอย่าง 1.39 =',len(listCnr),'วิธี')"
   ]
  },
  {
   "cell_type": "code",
   "execution_count": null,
   "id": "50c05335",
   "metadata": {},
   "outputs": [],
   "source": [
    "#Ex1.40 สมมุติมีอาจารย์ในสาขา CS 9 คน และสาขา ICT 11 คน มีกี่วิธีที่จะเลือกกรรมการจัดทำโครงการทัศนศึกษาดูงานนิสิตทั้ง 2 สาขา \n",
    "#โดยกรรมการมาจากสาขา CS 3 คน และสาขา ICT 4 คน\n",
    "\n",
    "A = list(range(1,10))#0-9 \n",
    "B = list(range(1,12))#0-11 \n",
    "rA = 3 \n",
    "rB = 4 \n",
    "nA = len(list(it.combinations(A,rA)))#จำนวนวิธีเลือกกรรมการจากสาขา CS\n",
    "nB = len(list(it.combinations(B,rB)))#จำนวนวิธีเลือกกรรมการจากสาขา  ICT\n",
    "print('จำนวนวิธีตัวอย่าง 1.40 = nA x nB = %d x %d = %d วิธี'%(nA,nB,nA*nB))"
   ]
  }
 ],
 "metadata": {
  "kernelspec": {
   "display_name": "Python 3 (ipykernel)",
   "language": "python",
   "name": "python3"
  },
  "language_info": {
   "codemirror_mode": {
    "name": "ipython",
    "version": 3
   },
   "file_extension": ".py",
   "mimetype": "text/x-python",
   "name": "python",
   "nbconvert_exporter": "python",
   "pygments_lexer": "ipython3",
   "version": "3.8.10"
  }
 },
 "nbformat": 4,
 "nbformat_minor": 5
}
